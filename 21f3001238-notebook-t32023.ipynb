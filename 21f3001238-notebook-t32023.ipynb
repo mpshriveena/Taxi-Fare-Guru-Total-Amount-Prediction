{
 "cells": [
  {
   "cell_type": "code",
   "execution_count": 1,
   "id": "e6f8a77c",
   "metadata": {
    "_cell_guid": "b1076dfc-b9ad-4769-8c92-a6c4dae69d19",
    "_uuid": "8f2839f25d086af736a60e9eeb907d3b93b6e0e5",
    "execution": {
     "iopub.execute_input": "2023-12-09T12:28:37.494221Z",
     "iopub.status.busy": "2023-12-09T12:28:37.493830Z",
     "iopub.status.idle": "2023-12-09T12:28:38.414105Z",
     "shell.execute_reply": "2023-12-09T12:28:38.412940Z"
    },
    "papermill": {
     "duration": 0.941593,
     "end_time": "2023-12-09T12:28:38.416521",
     "exception": false,
     "start_time": "2023-12-09T12:28:37.474928",
     "status": "completed"
    },
    "tags": []
   },
   "outputs": [
    {
     "name": "stdout",
     "output_type": "stream",
     "text": [
      "/kaggle/input/taxi-fare-guru-total-amount-prediction-challenge/sample.csv.csv\n",
      "/kaggle/input/taxi-fare-guru-total-amount-prediction-challenge/train.csv\n",
      "/kaggle/input/taxi-fare-guru-total-amount-prediction-challenge/test.csv\n"
     ]
    }
   ],
   "source": [
    "# This Python 3 environment comes with many helpful analytics libraries installed\n",
    "# It is defined by the kaggle/python Docker image: https://github.com/kaggle/docker-python\n",
    "# For example, here's several helpful packages to load\n",
    "\n",
    "import numpy as np # linear algebra\n",
    "import pandas as pd # data processing, CSV file I/O (e.g. pd.read_csv)\n",
    "\n",
    "# Input data files are available in the read-only \"../input/\" directory\n",
    "# For example, running this (by clicking run or pressing Shift+Enter) will list all files under the input directory\n",
    "\n",
    "import os\n",
    "for dirname, _, filenames in os.walk('/kaggle/input'):\n",
    "    for filename in filenames:\n",
    "        print(os.path.join(dirname, filename))\n",
    "\n",
    "# You can write up to 20GB to the current directory (/kaggle/working/) that gets preserved as output when you create a version using \"Save & Run All\" \n",
    "# You can also write temporary files to /kaggle/temp/, but they won't be saved outside of the current session"
   ]
  },
  {
   "cell_type": "markdown",
   "id": "32a8257a",
   "metadata": {
    "papermill": {
     "duration": 0.017746,
     "end_time": "2023-12-09T12:28:38.453296",
     "exception": false,
     "start_time": "2023-12-09T12:28:38.435550",
     "status": "completed"
    },
    "tags": []
   },
   "source": [
    "# ****Taxi Fare Prediction****\n",
    "The aim of this project is to build the most accurate models for predicting the total amount paid by travellers for taxi rides. Hence this is a regression type of problem."
   ]
  },
  {
   "cell_type": "markdown",
   "id": "f6c5c923",
   "metadata": {
    "papermill": {
     "duration": 0.017168,
     "end_time": "2023-12-09T12:28:38.488433",
     "exception": false,
     "start_time": "2023-12-09T12:28:38.471265",
     "status": "completed"
    },
    "tags": []
   },
   "source": [
    "# ****Step 1**** \n",
    "Importing the libraries"
   ]
  },
  {
   "cell_type": "code",
   "execution_count": 2,
   "id": "2f241acd",
   "metadata": {
    "execution": {
     "iopub.execute_input": "2023-12-09T12:28:38.525097Z",
     "iopub.status.busy": "2023-12-09T12:28:38.524302Z",
     "iopub.status.idle": "2023-12-09T12:28:40.904577Z",
     "shell.execute_reply": "2023-12-09T12:28:40.903361Z"
    },
    "papermill": {
     "duration": 2.401797,
     "end_time": "2023-12-09T12:28:40.907424",
     "exception": false,
     "start_time": "2023-12-09T12:28:38.505627",
     "status": "completed"
    },
    "tags": []
   },
   "outputs": [],
   "source": [
    "import matplotlib.pyplot as plt\n",
    "import seaborn as sns\n",
    "from sklearn.model_selection import train_test_split\n",
    "from sklearn.impute import SimpleImputer\n",
    "from sklearn.preprocessing import LabelEncoder\n",
    "from sklearn.ensemble import RandomForestRegressor\n",
    "from sklearn.metrics import mean_squared_error, r2_score, mean_absolute_error\n",
    "from sklearn.linear_model import LinearRegression\n",
    "from sklearn.neighbors import KNeighborsRegressor\n",
    "from sklearn.tree import DecisionTreeRegressor\n",
    "from sklearn.ensemble import GradientBoostingRegressor\n",
    "from sklearn.ensemble import AdaBoostRegressor\n",
    "from sklearn.ensemble import VotingRegressor\n",
    "from sklearn.linear_model import Ridge\n",
    "from sklearn.ensemble import ExtraTreesRegressor"
   ]
  },
  {
   "cell_type": "markdown",
   "id": "4b94550e",
   "metadata": {
    "papermill": {
     "duration": 0.017151,
     "end_time": "2023-12-09T12:28:40.942242",
     "exception": false,
     "start_time": "2023-12-09T12:28:40.925091",
     "status": "completed"
    },
    "tags": []
   },
   "source": [
    "# ****Step 2****\n",
    "Loading the dataset"
   ]
  },
  {
   "cell_type": "code",
   "execution_count": 3,
   "id": "ef4f1ad3",
   "metadata": {
    "execution": {
     "iopub.execute_input": "2023-12-09T12:28:41.038850Z",
     "iopub.status.busy": "2023-12-09T12:28:41.038208Z",
     "iopub.status.idle": "2023-12-09T12:28:42.012291Z",
     "shell.execute_reply": "2023-12-09T12:28:42.010848Z"
    },
    "papermill": {
     "duration": 1.055258,
     "end_time": "2023-12-09T12:28:42.015004",
     "exception": false,
     "start_time": "2023-12-09T12:28:40.959746",
     "status": "completed"
    },
    "tags": []
   },
   "outputs": [],
   "source": [
    "data = pd.read_csv('/kaggle/input/taxi-fare-guru-total-amount-prediction-challenge/train.csv') #Loading the train data\n",
    "X_test = pd.read_csv('/kaggle/input/taxi-fare-guru-total-amount-prediction-challenge/test.csv') #Loading the test data"
   ]
  },
  {
   "cell_type": "code",
   "execution_count": 4,
   "id": "7bc643b5",
   "metadata": {
    "execution": {
     "iopub.execute_input": "2023-12-09T12:28:42.051905Z",
     "iopub.status.busy": "2023-12-09T12:28:42.051478Z",
     "iopub.status.idle": "2023-12-09T12:28:42.080199Z",
     "shell.execute_reply": "2023-12-09T12:28:42.079104Z"
    },
    "papermill": {
     "duration": 0.050104,
     "end_time": "2023-12-09T12:28:42.082785",
     "exception": false,
     "start_time": "2023-12-09T12:28:42.032681",
     "status": "completed"
    },
    "tags": []
   },
   "outputs": [
    {
     "data": {
      "text/html": [
       "<div>\n",
       "<style scoped>\n",
       "    .dataframe tbody tr th:only-of-type {\n",
       "        vertical-align: middle;\n",
       "    }\n",
       "\n",
       "    .dataframe tbody tr th {\n",
       "        vertical-align: top;\n",
       "    }\n",
       "\n",
       "    .dataframe thead th {\n",
       "        text-align: right;\n",
       "    }\n",
       "</style>\n",
       "<table border=\"1\" class=\"dataframe\">\n",
       "  <thead>\n",
       "    <tr style=\"text-align: right;\">\n",
       "      <th></th>\n",
       "      <th>ID</th>\n",
       "      <th>total_amount</th>\n",
       "    </tr>\n",
       "  </thead>\n",
       "  <tbody>\n",
       "    <tr>\n",
       "      <th>0</th>\n",
       "      <td>1</td>\n",
       "      <td>24.456348</td>\n",
       "    </tr>\n",
       "    <tr>\n",
       "      <th>1</th>\n",
       "      <td>2</td>\n",
       "      <td>24.374058</td>\n",
       "    </tr>\n",
       "    <tr>\n",
       "      <th>2</th>\n",
       "      <td>3</td>\n",
       "      <td>19.878154</td>\n",
       "    </tr>\n",
       "    <tr>\n",
       "      <th>3</th>\n",
       "      <td>4</td>\n",
       "      <td>25.015569</td>\n",
       "    </tr>\n",
       "    <tr>\n",
       "      <th>4</th>\n",
       "      <td>5</td>\n",
       "      <td>22.252489</td>\n",
       "    </tr>\n",
       "  </tbody>\n",
       "</table>\n",
       "</div>"
      ],
      "text/plain": [
       "   ID  total_amount\n",
       "0   1     24.456348\n",
       "1   2     24.374058\n",
       "2   3     19.878154\n",
       "3   4     25.015569\n",
       "4   5     22.252489"
      ]
     },
     "execution_count": 4,
     "metadata": {},
     "output_type": "execute_result"
    }
   ],
   "source": [
    "sample_data = pd.read_csv('/kaggle/input/taxi-fare-guru-total-amount-prediction-challenge/sample.csv.csv')\n",
    "sample_data.head() # To analyse the format of sample data"
   ]
  },
  {
   "cell_type": "markdown",
   "id": "747a3036",
   "metadata": {
    "papermill": {
     "duration": 0.018381,
     "end_time": "2023-12-09T12:28:42.119395",
     "exception": false,
     "start_time": "2023-12-09T12:28:42.101014",
     "status": "completed"
    },
    "tags": []
   },
   "source": [
    "Exploratory Data Analysis"
   ]
  },
  {
   "cell_type": "code",
   "execution_count": 5,
   "id": "b85f8577",
   "metadata": {
    "execution": {
     "iopub.execute_input": "2023-12-09T12:28:42.156761Z",
     "iopub.status.busy": "2023-12-09T12:28:42.156354Z",
     "iopub.status.idle": "2023-12-09T12:28:42.164200Z",
     "shell.execute_reply": "2023-12-09T12:28:42.162843Z"
    },
    "papermill": {
     "duration": 0.029225,
     "end_time": "2023-12-09T12:28:42.166414",
     "exception": false,
     "start_time": "2023-12-09T12:28:42.137189",
     "status": "completed"
    },
    "tags": []
   },
   "outputs": [
    {
     "data": {
      "text/plain": [
       "(175000, 17)"
      ]
     },
     "execution_count": 5,
     "metadata": {},
     "output_type": "execute_result"
    }
   ],
   "source": [
    "data.shape #To obtain shape of the data frame"
   ]
  },
  {
   "cell_type": "code",
   "execution_count": 6,
   "id": "87686799",
   "metadata": {
    "execution": {
     "iopub.execute_input": "2023-12-09T12:28:42.203539Z",
     "iopub.status.busy": "2023-12-09T12:28:42.203164Z",
     "iopub.status.idle": "2023-12-09T12:28:42.227548Z",
     "shell.execute_reply": "2023-12-09T12:28:42.226068Z"
    },
    "papermill": {
     "duration": 0.046008,
     "end_time": "2023-12-09T12:28:42.230209",
     "exception": false,
     "start_time": "2023-12-09T12:28:42.184201",
     "status": "completed"
    },
    "tags": []
   },
   "outputs": [
    {
     "data": {
      "text/html": [
       "<div>\n",
       "<style scoped>\n",
       "    .dataframe tbody tr th:only-of-type {\n",
       "        vertical-align: middle;\n",
       "    }\n",
       "\n",
       "    .dataframe tbody tr th {\n",
       "        vertical-align: top;\n",
       "    }\n",
       "\n",
       "    .dataframe thead th {\n",
       "        text-align: right;\n",
       "    }\n",
       "</style>\n",
       "<table border=\"1\" class=\"dataframe\">\n",
       "  <thead>\n",
       "    <tr style=\"text-align: right;\">\n",
       "      <th></th>\n",
       "      <th>VendorID</th>\n",
       "      <th>tpep_pickup_datetime</th>\n",
       "      <th>tpep_dropoff_datetime</th>\n",
       "      <th>passenger_count</th>\n",
       "      <th>trip_distance</th>\n",
       "      <th>RatecodeID</th>\n",
       "      <th>store_and_fwd_flag</th>\n",
       "      <th>PULocationID</th>\n",
       "      <th>DOLocationID</th>\n",
       "      <th>payment_type</th>\n",
       "      <th>extra</th>\n",
       "      <th>tip_amount</th>\n",
       "      <th>tolls_amount</th>\n",
       "      <th>improvement_surcharge</th>\n",
       "      <th>total_amount</th>\n",
       "      <th>congestion_surcharge</th>\n",
       "      <th>Airport_fee</th>\n",
       "    </tr>\n",
       "  </thead>\n",
       "  <tbody>\n",
       "    <tr>\n",
       "      <th>0</th>\n",
       "      <td>1</td>\n",
       "      <td>2023-06-28 17:20:21</td>\n",
       "      <td>2023-06-28 16:34:45</td>\n",
       "      <td>1.0</td>\n",
       "      <td>2.14</td>\n",
       "      <td>1.0</td>\n",
       "      <td>N</td>\n",
       "      <td>120</td>\n",
       "      <td>9</td>\n",
       "      <td>Credit Card</td>\n",
       "      <td>2.5</td>\n",
       "      <td>7.165589</td>\n",
       "      <td>0.0</td>\n",
       "      <td>1.0</td>\n",
       "      <td>20.64</td>\n",
       "      <td>2.5</td>\n",
       "      <td>0.0</td>\n",
       "    </tr>\n",
       "    <tr>\n",
       "      <th>1</th>\n",
       "      <td>0</td>\n",
       "      <td>2023-06-29 23:05:01</td>\n",
       "      <td>2023-06-29 22:01:35</td>\n",
       "      <td>1.0</td>\n",
       "      <td>2.70</td>\n",
       "      <td>1.0</td>\n",
       "      <td>N</td>\n",
       "      <td>15</td>\n",
       "      <td>215</td>\n",
       "      <td>Credit Card</td>\n",
       "      <td>3.5</td>\n",
       "      <td>6.067401</td>\n",
       "      <td>0.0</td>\n",
       "      <td>1.0</td>\n",
       "      <td>25.55</td>\n",
       "      <td>2.5</td>\n",
       "      <td>0.0</td>\n",
       "    </tr>\n",
       "    <tr>\n",
       "      <th>2</th>\n",
       "      <td>1</td>\n",
       "      <td>2023-06-30 10:19:31</td>\n",
       "      <td>2023-06-30 11:13:10</td>\n",
       "      <td>1.0</td>\n",
       "      <td>1.15</td>\n",
       "      <td>1.0</td>\n",
       "      <td>N</td>\n",
       "      <td>167</td>\n",
       "      <td>223</td>\n",
       "      <td>Credit Card</td>\n",
       "      <td>0.0</td>\n",
       "      <td>4.111547</td>\n",
       "      <td>0.0</td>\n",
       "      <td>1.0</td>\n",
       "      <td>17.64</td>\n",
       "      <td>2.5</td>\n",
       "      <td>0.0</td>\n",
       "    </tr>\n",
       "    <tr>\n",
       "      <th>3</th>\n",
       "      <td>0</td>\n",
       "      <td>2023-06-29 13:23:09</td>\n",
       "      <td>2023-06-29 14:20:01</td>\n",
       "      <td>1.0</td>\n",
       "      <td>0.40</td>\n",
       "      <td>1.0</td>\n",
       "      <td>N</td>\n",
       "      <td>128</td>\n",
       "      <td>239</td>\n",
       "      <td>Credit Card</td>\n",
       "      <td>2.5</td>\n",
       "      <td>6.411079</td>\n",
       "      <td>0.0</td>\n",
       "      <td>1.0</td>\n",
       "      <td>12.80</td>\n",
       "      <td>2.5</td>\n",
       "      <td>0.0</td>\n",
       "    </tr>\n",
       "    <tr>\n",
       "      <th>4</th>\n",
       "      <td>1</td>\n",
       "      <td>2023-06-29 22:03:32</td>\n",
       "      <td>2023-06-29 22:22:22</td>\n",
       "      <td>3.0</td>\n",
       "      <td>1.10</td>\n",
       "      <td>1.0</td>\n",
       "      <td>N</td>\n",
       "      <td>203</td>\n",
       "      <td>52</td>\n",
       "      <td>Credit Card</td>\n",
       "      <td>1.0</td>\n",
       "      <td>4.769377</td>\n",
       "      <td>0.0</td>\n",
       "      <td>1.0</td>\n",
       "      <td>18.00</td>\n",
       "      <td>2.5</td>\n",
       "      <td>0.0</td>\n",
       "    </tr>\n",
       "  </tbody>\n",
       "</table>\n",
       "</div>"
      ],
      "text/plain": [
       "   VendorID tpep_pickup_datetime tpep_dropoff_datetime  passenger_count  \\\n",
       "0         1  2023-06-28 17:20:21   2023-06-28 16:34:45              1.0   \n",
       "1         0  2023-06-29 23:05:01   2023-06-29 22:01:35              1.0   \n",
       "2         1  2023-06-30 10:19:31   2023-06-30 11:13:10              1.0   \n",
       "3         0  2023-06-29 13:23:09   2023-06-29 14:20:01              1.0   \n",
       "4         1  2023-06-29 22:03:32   2023-06-29 22:22:22              3.0   \n",
       "\n",
       "   trip_distance  RatecodeID store_and_fwd_flag  PULocationID  DOLocationID  \\\n",
       "0           2.14         1.0                  N           120             9   \n",
       "1           2.70         1.0                  N            15           215   \n",
       "2           1.15         1.0                  N           167           223   \n",
       "3           0.40         1.0                  N           128           239   \n",
       "4           1.10         1.0                  N           203            52   \n",
       "\n",
       "  payment_type  extra  tip_amount  tolls_amount  improvement_surcharge  \\\n",
       "0  Credit Card    2.5    7.165589           0.0                    1.0   \n",
       "1  Credit Card    3.5    6.067401           0.0                    1.0   \n",
       "2  Credit Card    0.0    4.111547           0.0                    1.0   \n",
       "3  Credit Card    2.5    6.411079           0.0                    1.0   \n",
       "4  Credit Card    1.0    4.769377           0.0                    1.0   \n",
       "\n",
       "   total_amount  congestion_surcharge  Airport_fee  \n",
       "0         20.64                   2.5          0.0  \n",
       "1         25.55                   2.5          0.0  \n",
       "2         17.64                   2.5          0.0  \n",
       "3         12.80                   2.5          0.0  \n",
       "4         18.00                   2.5          0.0  "
      ]
     },
     "execution_count": 6,
     "metadata": {},
     "output_type": "execute_result"
    }
   ],
   "source": [
    "data.head() #To display first five rows to see data's structure"
   ]
  },
  {
   "cell_type": "code",
   "execution_count": 7,
   "id": "1b7c8096",
   "metadata": {
    "execution": {
     "iopub.execute_input": "2023-12-09T12:28:42.268855Z",
     "iopub.status.busy": "2023-12-09T12:28:42.268422Z",
     "iopub.status.idle": "2023-12-09T12:28:42.341229Z",
     "shell.execute_reply": "2023-12-09T12:28:42.339536Z"
    },
    "papermill": {
     "duration": 0.095482,
     "end_time": "2023-12-09T12:28:42.344190",
     "exception": false,
     "start_time": "2023-12-09T12:28:42.248708",
     "status": "completed"
    },
    "tags": []
   },
   "outputs": [
    {
     "name": "stdout",
     "output_type": "stream",
     "text": [
      "<class 'pandas.core.frame.DataFrame'>\n",
      "RangeIndex: 175000 entries, 0 to 174999\n",
      "Data columns (total 17 columns):\n",
      " #   Column                 Non-Null Count   Dtype  \n",
      "---  ------                 --------------   -----  \n",
      " 0   VendorID               175000 non-null  int64  \n",
      " 1   tpep_pickup_datetime   175000 non-null  object \n",
      " 2   tpep_dropoff_datetime  175000 non-null  object \n",
      " 3   passenger_count        168923 non-null  float64\n",
      " 4   trip_distance          175000 non-null  float64\n",
      " 5   RatecodeID             168923 non-null  float64\n",
      " 6   store_and_fwd_flag     168923 non-null  object \n",
      " 7   PULocationID           175000 non-null  int64  \n",
      " 8   DOLocationID           175000 non-null  int64  \n",
      " 9   payment_type           175000 non-null  object \n",
      " 10  extra                  175000 non-null  float64\n",
      " 11  tip_amount             175000 non-null  float64\n",
      " 12  tolls_amount           175000 non-null  float64\n",
      " 13  improvement_surcharge  175000 non-null  float64\n",
      " 14  total_amount           175000 non-null  float64\n",
      " 15  congestion_surcharge   168923 non-null  float64\n",
      " 16  Airport_fee            168923 non-null  float64\n",
      "dtypes: float64(10), int64(3), object(4)\n",
      "memory usage: 22.7+ MB\n"
     ]
    }
   ],
   "source": [
    "data.info() #To get information about the dataset"
   ]
  },
  {
   "cell_type": "code",
   "execution_count": 8,
   "id": "e83f6864",
   "metadata": {
    "execution": {
     "iopub.execute_input": "2023-12-09T12:28:42.383266Z",
     "iopub.status.busy": "2023-12-09T12:28:42.382875Z",
     "iopub.status.idle": "2023-12-09T12:28:42.388123Z",
     "shell.execute_reply": "2023-12-09T12:28:42.386824Z"
    },
    "papermill": {
     "duration": 0.027993,
     "end_time": "2023-12-09T12:28:42.390673",
     "exception": false,
     "start_time": "2023-12-09T12:28:42.362680",
     "status": "completed"
    },
    "tags": []
   },
   "outputs": [],
   "source": [
    "#Inference from the data:-\n",
    "  #*There are two string datetime objects which have to be converted into python datetime objects.\n",
    "  #*There are two categorical columns, store_and_fwd_flag and payment_type\n",
    "  #*There are null values in 5 columns"
   ]
  },
  {
   "cell_type": "markdown",
   "id": "6c5f7714",
   "metadata": {
    "papermill": {
     "duration": 0.018136,
     "end_time": "2023-12-09T12:28:42.428206",
     "exception": false,
     "start_time": "2023-12-09T12:28:42.410070",
     "status": "completed"
    },
    "tags": []
   },
   "source": [
    "# ****Step 3****\n",
    "****Visualising the data****"
   ]
  },
  {
   "cell_type": "code",
   "execution_count": 9,
   "id": "00c7ffd9",
   "metadata": {
    "execution": {
     "iopub.execute_input": "2023-12-09T12:28:42.467023Z",
     "iopub.status.busy": "2023-12-09T12:28:42.466633Z",
     "iopub.status.idle": "2023-12-09T12:28:42.471478Z",
     "shell.execute_reply": "2023-12-09T12:28:42.470340Z"
    },
    "papermill": {
     "duration": 0.026621,
     "end_time": "2023-12-09T12:28:42.473790",
     "exception": false,
     "start_time": "2023-12-09T12:28:42.447169",
     "status": "completed"
    },
    "tags": []
   },
   "outputs": [],
   "source": [
    "#Visualizing the distribution of the target total amount "
   ]
  },
  {
   "cell_type": "code",
   "execution_count": 10,
   "id": "bf5d86c0",
   "metadata": {
    "execution": {
     "iopub.execute_input": "2023-12-09T12:28:42.512105Z",
     "iopub.status.busy": "2023-12-09T12:28:42.511580Z",
     "iopub.status.idle": "2023-12-09T12:28:46.684321Z",
     "shell.execute_reply": "2023-12-09T12:28:46.683137Z"
    },
    "papermill": {
     "duration": 4.194264,
     "end_time": "2023-12-09T12:28:46.686490",
     "exception": false,
     "start_time": "2023-12-09T12:28:42.492226",
     "status": "completed"
    },
    "tags": []
   },
   "outputs": [
    {
     "data": {
      "image/png": "[encoded data removed]",
      "text/plain": [
       "<Figure size 1000x600 with 1 Axes>"
      ]
     },
     "metadata": {},
     "output_type": "display_data"
    }
   ],
   "source": [
    "plt.figure(figsize=(10, 6))\n",
    "sns.histplot(data['total_amount'], kde=True)\n",
    "plt.title('Distribution of Total Amount')\n",
    "plt.xlabel('Total Amount')\n",
    "plt.ylabel('Frequency')\n",
    "plt.show()"
   ]
  },
  {
   "cell_type": "code",
   "execution_count": 11,
   "id": "64799898",
   "metadata": {
    "execution": {
     "iopub.execute_input": "2023-12-09T12:28:46.726851Z",
     "iopub.status.busy": "2023-12-09T12:28:46.725732Z",
     "iopub.status.idle": "2023-12-09T12:28:46.731004Z",
     "shell.execute_reply": "2023-12-09T12:28:46.729831Z"
    },
    "papermill": {
     "duration": 0.027414,
     "end_time": "2023-12-09T12:28:46.733159",
     "exception": false,
     "start_time": "2023-12-09T12:28:46.705745",
     "status": "completed"
    },
    "tags": []
   },
   "outputs": [],
   "source": [
    "#Relation between Trip Distance and Total Amount"
   ]
  },
  {
   "cell_type": "code",
   "execution_count": 12,
   "id": "0fe6530c",
   "metadata": {
    "execution": {
     "iopub.execute_input": "2023-12-09T12:28:46.772242Z",
     "iopub.status.busy": "2023-12-09T12:28:46.771818Z",
     "iopub.status.idle": "2023-12-09T12:28:47.706441Z",
     "shell.execute_reply": "2023-12-09T12:28:47.705216Z"
    },
    "papermill": {
     "duration": 0.95701,
     "end_time": "2023-12-09T12:28:47.708968",
     "exception": false,
     "start_time": "2023-12-09T12:28:46.751958",
     "status": "completed"
    },
    "tags": []
   },
   "outputs": [
    {
     "data": {
      "text/plain": [
       "<Axes: xlabel='trip_distance', ylabel='total_amount'>"
      ]
     },
     "execution_count": 12,
     "metadata": {},
     "output_type": "execute_result"
    },
    {
     "data": {
      "image/png": "[encoded data removed]",
      "text/plain": [
       "<Figure size 640x480 with 1 Axes>"
      ]
     },
     "metadata": {},
     "output_type": "display_data"
    }
   ],
   "source": [
    "#Using Scatter Plot\n",
    "sns.scatterplot(data=data, x=\"trip_distance\", y=\"total_amount\")"
   ]
  },
  {
   "cell_type": "code",
   "execution_count": 13,
   "id": "d5662764",
   "metadata": {
    "execution": {
     "iopub.execute_input": "2023-12-09T12:28:47.749976Z",
     "iopub.status.busy": "2023-12-09T12:28:47.749283Z",
     "iopub.status.idle": "2023-12-09T12:29:45.669847Z",
     "shell.execute_reply": "2023-12-09T12:29:45.668953Z"
    },
    "papermill": {
     "duration": 57.94355,
     "end_time": "2023-12-09T12:29:45.672018",
     "exception": false,
     "start_time": "2023-12-09T12:28:47.728468",
     "status": "completed"
    },
    "tags": []
   },
   "outputs": [
    {
     "data": {
      "text/plain": [
       "<Axes: xlabel='trip_distance', ylabel='total_amount'>"
      ]
     },
     "execution_count": 13,
     "metadata": {},
     "output_type": "execute_result"
    },
    {
     "data": {
      "image/png": "[encoded data removed]",
      "text/plain": [
       "<Figure size 640x480 with 1 Axes>"
      ]
     },
     "metadata": {},
     "output_type": "display_data"
    }
   ],
   "source": [
    "#Using Line Plot\n",
    "sns.lineplot(data=data, x=\"trip_distance\", y=\"total_amount\")"
   ]
  },
  {
   "cell_type": "code",
   "execution_count": 14,
   "id": "9e68bb94",
   "metadata": {
    "execution": {
     "iopub.execute_input": "2023-12-09T12:29:45.714378Z",
     "iopub.status.busy": "2023-12-09T12:29:45.713706Z",
     "iopub.status.idle": "2023-12-09T12:29:47.043413Z",
     "shell.execute_reply": "2023-12-09T12:29:47.042159Z"
    },
    "papermill": {
     "duration": 1.354019,
     "end_time": "2023-12-09T12:29:47.045957",
     "exception": false,
     "start_time": "2023-12-09T12:29:45.691938",
     "status": "completed"
    },
    "tags": []
   },
   "outputs": [
    {
     "name": "stderr",
     "output_type": "stream",
     "text": [
      "/opt/conda/lib/python3.10/site-packages/seaborn/axisgrid.py:118: UserWarning: The figure layout has changed to tight\n",
      "  self._figure.tight_layout(*args, **kwargs)\n",
      "/opt/conda/lib/python3.10/site-packages/seaborn/axisgrid.py:118: UserWarning: The figure layout has changed to tight\n",
      "  self._figure.tight_layout(*args, **kwargs)\n"
     ]
    },
    {
     "data": {
      "text/plain": [
       "<seaborn.axisgrid.FacetGrid at 0x7cc737934400>"
      ]
     },
     "execution_count": 14,
     "metadata": {},
     "output_type": "execute_result"
    },
    {
     "data": {
      "image/png": "[encoded data removed]",
      "text/plain": [
       "<Figure size 500x500 with 1 Axes>"
      ]
     },
     "metadata": {},
     "output_type": "display_data"
    },
    {
     "data": {
      "image/png": "[encoded data removed]",
      "text/plain": [
       "<Figure size 500x500 with 1 Axes>"
      ]
     },
     "metadata": {},
     "output_type": "display_data"
    }
   ],
   "source": [
    "#Visualising categorical columns using catplot\n",
    "sns.catplot(data=data, x='store_and_fwd_flag', kind='count',palette='Set1')\n",
    "sns.catplot(data=data, x='payment_type', kind='count',palette='Set2')"
   ]
  },
  {
   "cell_type": "markdown",
   "id": "bc784209",
   "metadata": {
    "papermill": {
     "duration": 0.02025,
     "end_time": "2023-12-09T12:29:47.087957",
     "exception": false,
     "start_time": "2023-12-09T12:29:47.067707",
     "status": "completed"
    },
    "tags": []
   },
   "source": [
    "# ****Step 4****\n",
    "Preprocessing of dataset"
   ]
  },
  {
   "cell_type": "markdown",
   "id": "3c7e4e49",
   "metadata": {
    "papermill": {
     "duration": 0.021309,
     "end_time": "2023-12-09T12:29:47.130692",
     "exception": false,
     "start_time": "2023-12-09T12:29:47.109383",
     "status": "completed"
    },
    "tags": []
   },
   "source": [
    "1) Preprocessing of tpep_dropoff_datetime and tpep_pickup_datetime columns"
   ]
  },
  {
   "cell_type": "markdown",
   "id": "006d36bd",
   "metadata": {
    "papermill": {
     "duration": 0.020281,
     "end_time": "2023-12-09T12:29:47.171719",
     "exception": false,
     "start_time": "2023-12-09T12:29:47.151438",
     "status": "completed"
    },
    "tags": []
   },
   "source": [
    "Feature Extraction"
   ]
  },
  {
   "cell_type": "code",
   "execution_count": 15,
   "id": "2dd988ac",
   "metadata": {
    "execution": {
     "iopub.execute_input": "2023-12-09T12:29:47.215528Z",
     "iopub.status.busy": "2023-12-09T12:29:47.214652Z",
     "iopub.status.idle": "2023-12-09T12:29:47.219561Z",
     "shell.execute_reply": "2023-12-09T12:29:47.218763Z"
    },
    "papermill": {
     "duration": 0.029492,
     "end_time": "2023-12-09T12:29:47.221866",
     "exception": false,
     "start_time": "2023-12-09T12:29:47.192374",
     "status": "completed"
    },
    "tags": []
   },
   "outputs": [],
   "source": [
    "#1) The data contains two string datetime objects. They are\n",
    "        #*Dropoff time\n",
    "        #*Pickup time\n",
    "    #To find the difference between these two objects, these string datetime objects are converted into python datetime objects."
   ]
  },
  {
   "cell_type": "code",
   "execution_count": 16,
   "id": "93f24475",
   "metadata": {
    "execution": {
     "iopub.execute_input": "2023-12-09T12:29:47.265636Z",
     "iopub.status.busy": "2023-12-09T12:29:47.264757Z",
     "iopub.status.idle": "2023-12-09T12:29:47.398870Z",
     "shell.execute_reply": "2023-12-09T12:29:47.397854Z"
    },
    "papermill": {
     "duration": 0.159226,
     "end_time": "2023-12-09T12:29:47.401683",
     "exception": false,
     "start_time": "2023-12-09T12:29:47.242457",
     "status": "completed"
    },
    "tags": []
   },
   "outputs": [],
   "source": [
    "data['time_diff'] = (((pd.to_datetime(data['tpep_dropoff_datetime']))- (pd.to_datetime(data['tpep_pickup_datetime']))).dt.total_seconds()/60) # converting string datetime objects to python datetime objects and computing the difference between them.\n",
    "data['time_diff'] = data['time_diff'].abs() #To find the absolute value since the difference can be negative"
   ]
  },
  {
   "cell_type": "code",
   "execution_count": 17,
   "id": "af643c52",
   "metadata": {
    "execution": {
     "iopub.execute_input": "2023-12-09T12:29:47.446715Z",
     "iopub.status.busy": "2023-12-09T12:29:47.445708Z",
     "iopub.status.idle": "2023-12-09T12:29:47.465207Z",
     "shell.execute_reply": "2023-12-09T12:29:47.463886Z"
    },
    "papermill": {
     "duration": 0.044899,
     "end_time": "2023-12-09T12:29:47.467813",
     "exception": false,
     "start_time": "2023-12-09T12:29:47.422914",
     "status": "completed"
    },
    "tags": []
   },
   "outputs": [],
   "source": [
    "data = data.drop(columns=['tpep_pickup_datetime','tpep_dropoff_datetime']) #dropping down pickup time and drop off time columns since time difference has been extracted from it."
   ]
  },
  {
   "cell_type": "code",
   "execution_count": 18,
   "id": "36c0e4c7",
   "metadata": {
    "execution": {
     "iopub.execute_input": "2023-12-09T12:29:47.514243Z",
     "iopub.status.busy": "2023-12-09T12:29:47.513864Z",
     "iopub.status.idle": "2023-12-09T12:29:49.892141Z",
     "shell.execute_reply": "2023-12-09T12:29:49.890938Z"
    },
    "papermill": {
     "duration": 2.404154,
     "end_time": "2023-12-09T12:29:49.894407",
     "exception": false,
     "start_time": "2023-12-09T12:29:47.490253",
     "status": "completed"
    },
    "tags": []
   },
   "outputs": [
    {
     "data": {
      "image/png": "[encoded data removed]",
      "text/plain": [
       "<Figure size 1000x600 with 1 Axes>"
      ]
     },
     "metadata": {},
     "output_type": "display_data"
    }
   ],
   "source": [
    "#Visualising time difference\n",
    "plt.figure(figsize=(10, 6))\n",
    "sns.histplot(data['time_diff'], kde=True)\n",
    "plt.title('Distribution of Time difference')\n",
    "plt.xlabel('Time difference')\n",
    "plt.ylabel('Frequency')\n",
    "plt.show()"
   ]
  },
  {
   "cell_type": "markdown",
   "id": "efa3dcea",
   "metadata": {
    "papermill": {
     "duration": 0.020746,
     "end_time": "2023-12-09T12:29:49.936463",
     "exception": false,
     "start_time": "2023-12-09T12:29:49.915717",
     "status": "completed"
    },
    "tags": []
   },
   "source": [
    "2) Preprocessing of payment_type column"
   ]
  },
  {
   "cell_type": "code",
   "execution_count": 19,
   "id": "36df913c",
   "metadata": {
    "execution": {
     "iopub.execute_input": "2023-12-09T12:29:49.982765Z",
     "iopub.status.busy": "2023-12-09T12:29:49.981518Z",
     "iopub.status.idle": "2023-12-09T12:29:50.002402Z",
     "shell.execute_reply": "2023-12-09T12:29:50.001196Z"
    },
    "papermill": {
     "duration": 0.04667,
     "end_time": "2023-12-09T12:29:50.004780",
     "exception": false,
     "start_time": "2023-12-09T12:29:49.958110",
     "status": "completed"
    },
    "tags": []
   },
   "outputs": [
    {
     "data": {
      "text/plain": [
       "array(['Credit Card', 'Cash', 'Wallet', 'UPI', 'unknown'], dtype=object)"
      ]
     },
     "execution_count": 19,
     "metadata": {},
     "output_type": "execute_result"
    }
   ],
   "source": [
    "data['payment_type'].unique() #To obtain unique values of the feature payment_type"
   ]
  },
  {
   "cell_type": "code",
   "execution_count": 20,
   "id": "144361a2",
   "metadata": {
    "execution": {
     "iopub.execute_input": "2023-12-09T12:29:50.050145Z",
     "iopub.status.busy": "2023-12-09T12:29:50.049308Z",
     "iopub.status.idle": "2023-12-09T12:29:50.054393Z",
     "shell.execute_reply": "2023-12-09T12:29:50.053265Z"
    },
    "papermill": {
     "duration": 0.030271,
     "end_time": "2023-12-09T12:29:50.056638",
     "exception": false,
     "start_time": "2023-12-09T12:29:50.026367",
     "status": "completed"
    },
    "tags": []
   },
   "outputs": [],
   "source": [
    "#Since payment_type is categorical, label encoding is used"
   ]
  },
  {
   "cell_type": "code",
   "execution_count": 21,
   "id": "a9536f8c",
   "metadata": {
    "execution": {
     "iopub.execute_input": "2023-12-09T12:29:50.102267Z",
     "iopub.status.busy": "2023-12-09T12:29:50.101510Z",
     "iopub.status.idle": "2023-12-09T12:29:50.145310Z",
     "shell.execute_reply": "2023-12-09T12:29:50.144184Z"
    },
    "papermill": {
     "duration": 0.068936,
     "end_time": "2023-12-09T12:29:50.147726",
     "exception": false,
     "start_time": "2023-12-09T12:29:50.078790",
     "status": "completed"
    },
    "tags": []
   },
   "outputs": [],
   "source": [
    "label_encoder = LabelEncoder()\n",
    "data['payment_type'] = label_encoder.fit_transform(data['payment_type']) #encoding payment_type using label encoder"
   ]
  },
  {
   "cell_type": "markdown",
   "id": "f778dde9",
   "metadata": {
    "papermill": {
     "duration": 0.021573,
     "end_time": "2023-12-09T12:29:50.190592",
     "exception": false,
     "start_time": "2023-12-09T12:29:50.169019",
     "status": "completed"
    },
    "tags": []
   },
   "source": [
    "3) Preprocessing of store_and_fwd_flag column"
   ]
  },
  {
   "cell_type": "code",
   "execution_count": 22,
   "id": "2191a03e",
   "metadata": {
    "execution": {
     "iopub.execute_input": "2023-12-09T12:29:50.235920Z",
     "iopub.status.busy": "2023-12-09T12:29:50.235431Z",
     "iopub.status.idle": "2023-12-09T12:29:50.254039Z",
     "shell.execute_reply": "2023-12-09T12:29:50.252652Z"
    },
    "papermill": {
     "duration": 0.044617,
     "end_time": "2023-12-09T12:29:50.256742",
     "exception": false,
     "start_time": "2023-12-09T12:29:50.212125",
     "status": "completed"
    },
    "tags": []
   },
   "outputs": [
    {
     "data": {
      "text/plain": [
       "store_and_fwd_flag\n",
       "N    167729\n",
       "Y      1194\n",
       "Name: count, dtype: int64"
      ]
     },
     "execution_count": 22,
     "metadata": {},
     "output_type": "execute_result"
    }
   ],
   "source": [
    "data['store_and_fwd_flag'].value_counts() #To obtain the number of unique value in store_and_fwd_flag"
   ]
  },
  {
   "cell_type": "code",
   "execution_count": 23,
   "id": "5f534dfc",
   "metadata": {
    "execution": {
     "iopub.execute_input": "2023-12-09T12:29:50.304528Z",
     "iopub.status.busy": "2023-12-09T12:29:50.303846Z",
     "iopub.status.idle": "2023-12-09T12:29:50.308056Z",
     "shell.execute_reply": "2023-12-09T12:29:50.307148Z"
    },
    "papermill": {
     "duration": 0.029825,
     "end_time": "2023-12-09T12:29:50.310188",
     "exception": false,
     "start_time": "2023-12-09T12:29:50.280363",
     "status": "completed"
    },
    "tags": []
   },
   "outputs": [],
   "source": [
    "#Since most of the values are'N', filling every null values by'N'."
   ]
  },
  {
   "cell_type": "code",
   "execution_count": 24,
   "id": "7f93db43",
   "metadata": {
    "execution": {
     "iopub.execute_input": "2023-12-09T12:29:50.365472Z",
     "iopub.status.busy": "2023-12-09T12:29:50.363844Z",
     "iopub.status.idle": "2023-12-09T12:29:50.385888Z",
     "shell.execute_reply": "2023-12-09T12:29:50.384833Z"
    },
    "papermill": {
     "duration": 0.054567,
     "end_time": "2023-12-09T12:29:50.388737",
     "exception": false,
     "start_time": "2023-12-09T12:29:50.334170",
     "status": "completed"
    },
    "tags": []
   },
   "outputs": [],
   "source": [
    "data['store_and_fwd_flag'].fillna('N', inplace=True) #fill the null values by'N'"
   ]
  },
  {
   "cell_type": "code",
   "execution_count": 25,
   "id": "d0c02614",
   "metadata": {
    "execution": {
     "iopub.execute_input": "2023-12-09T12:29:50.438811Z",
     "iopub.status.busy": "2023-12-09T12:29:50.438033Z",
     "iopub.status.idle": "2023-12-09T12:29:50.442715Z",
     "shell.execute_reply": "2023-12-09T12:29:50.441852Z"
    },
    "papermill": {
     "duration": 0.030291,
     "end_time": "2023-12-09T12:29:50.445031",
     "exception": false,
     "start_time": "2023-12-09T12:29:50.414740",
     "status": "completed"
    },
    "tags": []
   },
   "outputs": [],
   "source": [
    "#Since the store_and_fwd_flag is also categorical, label encoder is used"
   ]
  },
  {
   "cell_type": "code",
   "execution_count": 26,
   "id": "9459ad7f",
   "metadata": {
    "execution": {
     "iopub.execute_input": "2023-12-09T12:29:50.491193Z",
     "iopub.status.busy": "2023-12-09T12:29:50.490443Z",
     "iopub.status.idle": "2023-12-09T12:29:50.535410Z",
     "shell.execute_reply": "2023-12-09T12:29:50.534184Z"
    },
    "papermill": {
     "duration": 0.071368,
     "end_time": "2023-12-09T12:29:50.538269",
     "exception": false,
     "start_time": "2023-12-09T12:29:50.466901",
     "status": "completed"
    },
    "tags": []
   },
   "outputs": [],
   "source": [
    "data['store_and_fwd_flag'] = label_encoder.fit_transform(data['store_and_fwd_flag']) #encoding store_fwd_flag using label encoder"
   ]
  },
  {
   "cell_type": "code",
   "execution_count": 27,
   "id": "4ebb8682",
   "metadata": {
    "execution": {
     "iopub.execute_input": "2023-12-09T12:29:50.587225Z",
     "iopub.status.busy": "2023-12-09T12:29:50.586784Z",
     "iopub.status.idle": "2023-12-09T12:29:50.762198Z",
     "shell.execute_reply": "2023-12-09T12:29:50.761087Z"
    },
    "papermill": {
     "duration": 0.202452,
     "end_time": "2023-12-09T12:29:50.764836",
     "exception": false,
     "start_time": "2023-12-09T12:29:50.562384",
     "status": "completed"
    },
    "tags": []
   },
   "outputs": [
    {
     "data": {
      "text/html": [
       "<div>\n",
       "<style scoped>\n",
       "    .dataframe tbody tr th:only-of-type {\n",
       "        vertical-align: middle;\n",
       "    }\n",
       "\n",
       "    .dataframe tbody tr th {\n",
       "        vertical-align: top;\n",
       "    }\n",
       "\n",
       "    .dataframe thead th {\n",
       "        text-align: right;\n",
       "    }\n",
       "</style>\n",
       "<table border=\"1\" class=\"dataframe\">\n",
       "  <thead>\n",
       "    <tr style=\"text-align: right;\">\n",
       "      <th></th>\n",
       "      <th>VendorID</th>\n",
       "      <th>passenger_count</th>\n",
       "      <th>trip_distance</th>\n",
       "      <th>RatecodeID</th>\n",
       "      <th>store_and_fwd_flag</th>\n",
       "      <th>PULocationID</th>\n",
       "      <th>DOLocationID</th>\n",
       "      <th>payment_type</th>\n",
       "      <th>extra</th>\n",
       "      <th>tip_amount</th>\n",
       "      <th>tolls_amount</th>\n",
       "      <th>improvement_surcharge</th>\n",
       "      <th>total_amount</th>\n",
       "      <th>congestion_surcharge</th>\n",
       "      <th>Airport_fee</th>\n",
       "      <th>time_diff</th>\n",
       "    </tr>\n",
       "  </thead>\n",
       "  <tbody>\n",
       "    <tr>\n",
       "      <th>VendorID</th>\n",
       "      <td>1.000000</td>\n",
       "      <td>0.099990</td>\n",
       "      <td>0.002857</td>\n",
       "      <td>-0.106361</td>\n",
       "      <td>-0.126133</td>\n",
       "      <td>-0.001315</td>\n",
       "      <td>-0.003946</td>\n",
       "      <td>0.037849</td>\n",
       "      <td>-0.530096</td>\n",
       "      <td>0.043941</td>\n",
       "      <td>0.023642</td>\n",
       "      <td>-0.063197</td>\n",
       "      <td>0.039695</td>\n",
       "      <td>-0.023495</td>\n",
       "      <td>0.036483</td>\n",
       "      <td>0.011204</td>\n",
       "    </tr>\n",
       "    <tr>\n",
       "      <th>passenger_count</th>\n",
       "      <td>0.099990</td>\n",
       "      <td>1.000000</td>\n",
       "      <td>0.010163</td>\n",
       "      <td>-0.023627</td>\n",
       "      <td>-0.016417</td>\n",
       "      <td>-0.000822</td>\n",
       "      <td>-0.000726</td>\n",
       "      <td>-0.032669</td>\n",
       "      <td>-0.039732</td>\n",
       "      <td>0.017175</td>\n",
       "      <td>0.042856</td>\n",
       "      <td>-0.002800</td>\n",
       "      <td>0.053224</td>\n",
       "      <td>-0.002266</td>\n",
       "      <td>0.040786</td>\n",
       "      <td>0.016047</td>\n",
       "    </tr>\n",
       "    <tr>\n",
       "      <th>trip_distance</th>\n",
       "      <td>0.002857</td>\n",
       "      <td>0.010163</td>\n",
       "      <td>1.000000</td>\n",
       "      <td>0.014745</td>\n",
       "      <td>-0.000420</td>\n",
       "      <td>-0.000958</td>\n",
       "      <td>-0.002496</td>\n",
       "      <td>0.011516</td>\n",
       "      <td>-0.001849</td>\n",
       "      <td>0.005847</td>\n",
       "      <td>0.006778</td>\n",
       "      <td>0.000459</td>\n",
       "      <td>0.009911</td>\n",
       "      <td>-0.060883</td>\n",
       "      <td>0.126236</td>\n",
       "      <td>0.002842</td>\n",
       "    </tr>\n",
       "    <tr>\n",
       "      <th>RatecodeID</th>\n",
       "      <td>-0.106361</td>\n",
       "      <td>-0.023627</td>\n",
       "      <td>0.014745</td>\n",
       "      <td>1.000000</td>\n",
       "      <td>-0.004695</td>\n",
       "      <td>-0.001090</td>\n",
       "      <td>-0.000644</td>\n",
       "      <td>0.017300</td>\n",
       "      <td>-0.070959</td>\n",
       "      <td>-0.032172</td>\n",
       "      <td>0.063754</td>\n",
       "      <td>0.002579</td>\n",
       "      <td>0.055527</td>\n",
       "      <td>-0.197608</td>\n",
       "      <td>-0.004480</td>\n",
       "      <td>0.018230</td>\n",
       "    </tr>\n",
       "    <tr>\n",
       "      <th>store_and_fwd_flag</th>\n",
       "      <td>-0.126133</td>\n",
       "      <td>-0.016417</td>\n",
       "      <td>-0.000420</td>\n",
       "      <td>-0.004695</td>\n",
       "      <td>1.000000</td>\n",
       "      <td>0.000316</td>\n",
       "      <td>0.001456</td>\n",
       "      <td>-0.018124</td>\n",
       "      <td>0.069783</td>\n",
       "      <td>-0.013224</td>\n",
       "      <td>-0.004572</td>\n",
       "      <td>0.006723</td>\n",
       "      <td>-0.007610</td>\n",
       "      <td>0.000398</td>\n",
       "      <td>-0.004677</td>\n",
       "      <td>-0.001221</td>\n",
       "    </tr>\n",
       "    <tr>\n",
       "      <th>PULocationID</th>\n",
       "      <td>-0.001315</td>\n",
       "      <td>-0.000822</td>\n",
       "      <td>-0.000958</td>\n",
       "      <td>-0.001090</td>\n",
       "      <td>0.000316</td>\n",
       "      <td>1.000000</td>\n",
       "      <td>-0.000161</td>\n",
       "      <td>0.002044</td>\n",
       "      <td>0.001495</td>\n",
       "      <td>0.000748</td>\n",
       "      <td>-0.000868</td>\n",
       "      <td>-0.000501</td>\n",
       "      <td>0.000715</td>\n",
       "      <td>0.001194</td>\n",
       "      <td>-0.000654</td>\n",
       "      <td>-0.004317</td>\n",
       "    </tr>\n",
       "    <tr>\n",
       "      <th>DOLocationID</th>\n",
       "      <td>-0.003946</td>\n",
       "      <td>-0.000726</td>\n",
       "      <td>-0.002496</td>\n",
       "      <td>-0.000644</td>\n",
       "      <td>0.001456</td>\n",
       "      <td>-0.000161</td>\n",
       "      <td>1.000000</td>\n",
       "      <td>0.000394</td>\n",
       "      <td>0.002955</td>\n",
       "      <td>-0.000247</td>\n",
       "      <td>-0.002290</td>\n",
       "      <td>-0.002810</td>\n",
       "      <td>-0.002954</td>\n",
       "      <td>0.000641</td>\n",
       "      <td>-0.004940</td>\n",
       "      <td>-0.004939</td>\n",
       "    </tr>\n",
       "    <tr>\n",
       "      <th>payment_type</th>\n",
       "      <td>0.037849</td>\n",
       "      <td>-0.032669</td>\n",
       "      <td>0.011516</td>\n",
       "      <td>0.017300</td>\n",
       "      <td>-0.018124</td>\n",
       "      <td>0.002044</td>\n",
       "      <td>0.000394</td>\n",
       "      <td>1.000000</td>\n",
       "      <td>-0.134051</td>\n",
       "      <td>0.158039</td>\n",
       "      <td>0.016688</td>\n",
       "      <td>-0.270576</td>\n",
       "      <td>-0.007457</td>\n",
       "      <td>-0.148764</td>\n",
       "      <td>-0.053088</td>\n",
       "      <td>-0.001869</td>\n",
       "    </tr>\n",
       "    <tr>\n",
       "      <th>extra</th>\n",
       "      <td>-0.530096</td>\n",
       "      <td>-0.039732</td>\n",
       "      <td>-0.001849</td>\n",
       "      <td>-0.070959</td>\n",
       "      <td>0.069783</td>\n",
       "      <td>0.001495</td>\n",
       "      <td>0.002955</td>\n",
       "      <td>-0.134051</td>\n",
       "      <td>1.000000</td>\n",
       "      <td>0.160331</td>\n",
       "      <td>0.201179</td>\n",
       "      <td>0.170831</td>\n",
       "      <td>0.234346</td>\n",
       "      <td>0.068088</td>\n",
       "      <td>0.337456</td>\n",
       "      <td>0.014919</td>\n",
       "    </tr>\n",
       "    <tr>\n",
       "      <th>tip_amount</th>\n",
       "      <td>0.043941</td>\n",
       "      <td>0.017175</td>\n",
       "      <td>0.005847</td>\n",
       "      <td>-0.032172</td>\n",
       "      <td>-0.013224</td>\n",
       "      <td>0.000748</td>\n",
       "      <td>-0.000247</td>\n",
       "      <td>0.158039</td>\n",
       "      <td>0.160331</td>\n",
       "      <td>1.000000</td>\n",
       "      <td>0.411588</td>\n",
       "      <td>0.076436</td>\n",
       "      <td>0.638658</td>\n",
       "      <td>-0.059346</td>\n",
       "      <td>0.335614</td>\n",
       "      <td>0.057127</td>\n",
       "    </tr>\n",
       "    <tr>\n",
       "      <th>tolls_amount</th>\n",
       "      <td>0.023642</td>\n",
       "      <td>0.042856</td>\n",
       "      <td>0.006778</td>\n",
       "      <td>0.063754</td>\n",
       "      <td>-0.004572</td>\n",
       "      <td>-0.000868</td>\n",
       "      <td>-0.002290</td>\n",
       "      <td>0.016688</td>\n",
       "      <td>0.201179</td>\n",
       "      <td>0.411588</td>\n",
       "      <td>1.000000</td>\n",
       "      <td>0.051190</td>\n",
       "      <td>0.684765</td>\n",
       "      <td>-0.134409</td>\n",
       "      <td>0.437600</td>\n",
       "      <td>0.074393</td>\n",
       "    </tr>\n",
       "    <tr>\n",
       "      <th>improvement_surcharge</th>\n",
       "      <td>-0.063197</td>\n",
       "      <td>-0.002800</td>\n",
       "      <td>0.000459</td>\n",
       "      <td>0.002579</td>\n",
       "      <td>0.006723</td>\n",
       "      <td>-0.000501</td>\n",
       "      <td>-0.002810</td>\n",
       "      <td>-0.270576</td>\n",
       "      <td>0.170831</td>\n",
       "      <td>0.076436</td>\n",
       "      <td>0.051190</td>\n",
       "      <td>1.000000</td>\n",
       "      <td>0.224036</td>\n",
       "      <td>0.528606</td>\n",
       "      <td>0.083739</td>\n",
       "      <td>0.002666</td>\n",
       "    </tr>\n",
       "    <tr>\n",
       "      <th>total_amount</th>\n",
       "      <td>0.039695</td>\n",
       "      <td>0.053224</td>\n",
       "      <td>0.009911</td>\n",
       "      <td>0.055527</td>\n",
       "      <td>-0.007610</td>\n",
       "      <td>0.000715</td>\n",
       "      <td>-0.002954</td>\n",
       "      <td>-0.007457</td>\n",
       "      <td>0.234346</td>\n",
       "      <td>0.638658</td>\n",
       "      <td>0.684765</td>\n",
       "      <td>0.224036</td>\n",
       "      <td>1.000000</td>\n",
       "      <td>-0.147765</td>\n",
       "      <td>0.597829</td>\n",
       "      <td>0.107297</td>\n",
       "    </tr>\n",
       "    <tr>\n",
       "      <th>congestion_surcharge</th>\n",
       "      <td>-0.023495</td>\n",
       "      <td>-0.002266</td>\n",
       "      <td>-0.060883</td>\n",
       "      <td>-0.197608</td>\n",
       "      <td>0.000398</td>\n",
       "      <td>0.001194</td>\n",
       "      <td>0.000641</td>\n",
       "      <td>-0.148764</td>\n",
       "      <td>0.068088</td>\n",
       "      <td>-0.059346</td>\n",
       "      <td>-0.134409</td>\n",
       "      <td>0.528606</td>\n",
       "      <td>-0.147765</td>\n",
       "      <td>1.000000</td>\n",
       "      <td>-0.336012</td>\n",
       "      <td>-0.023998</td>\n",
       "    </tr>\n",
       "    <tr>\n",
       "      <th>Airport_fee</th>\n",
       "      <td>0.036483</td>\n",
       "      <td>0.040786</td>\n",
       "      <td>0.126236</td>\n",
       "      <td>-0.004480</td>\n",
       "      <td>-0.004677</td>\n",
       "      <td>-0.000654</td>\n",
       "      <td>-0.004940</td>\n",
       "      <td>-0.053088</td>\n",
       "      <td>0.337456</td>\n",
       "      <td>0.335614</td>\n",
       "      <td>0.437600</td>\n",
       "      <td>0.083739</td>\n",
       "      <td>0.597829</td>\n",
       "      <td>-0.336012</td>\n",
       "      <td>1.000000</td>\n",
       "      <td>0.065229</td>\n",
       "    </tr>\n",
       "    <tr>\n",
       "      <th>time_diff</th>\n",
       "      <td>0.011204</td>\n",
       "      <td>0.016047</td>\n",
       "      <td>0.002842</td>\n",
       "      <td>0.018230</td>\n",
       "      <td>-0.001221</td>\n",
       "      <td>-0.004317</td>\n",
       "      <td>-0.004939</td>\n",
       "      <td>-0.001869</td>\n",
       "      <td>0.014919</td>\n",
       "      <td>0.057127</td>\n",
       "      <td>0.074393</td>\n",
       "      <td>0.002666</td>\n",
       "      <td>0.107297</td>\n",
       "      <td>-0.023998</td>\n",
       "      <td>0.065229</td>\n",
       "      <td>1.000000</td>\n",
       "    </tr>\n",
       "  </tbody>\n",
       "</table>\n",
       "</div>"
      ],
      "text/plain": [
       "                       VendorID  passenger_count  trip_distance  RatecodeID  \\\n",
       "VendorID               1.000000         0.099990       0.002857   -0.106361   \n",
       "passenger_count        0.099990         1.000000       0.010163   -0.023627   \n",
       "trip_distance          0.002857         0.010163       1.000000    0.014745   \n",
       "RatecodeID            -0.106361        -0.023627       0.014745    1.000000   \n",
       "store_and_fwd_flag    -0.126133        -0.016417      -0.000420   -0.004695   \n",
       "PULocationID          -0.001315        -0.000822      -0.000958   -0.001090   \n",
       "DOLocationID          -0.003946        -0.000726      -0.002496   -0.000644   \n",
       "payment_type           0.037849        -0.032669       0.011516    0.017300   \n",
       "extra                 -0.530096        -0.039732      -0.001849   -0.070959   \n",
       "tip_amount             0.043941         0.017175       0.005847   -0.032172   \n",
       "tolls_amount           0.023642         0.042856       0.006778    0.063754   \n",
       "improvement_surcharge -0.063197        -0.002800       0.000459    0.002579   \n",
       "total_amount           0.039695         0.053224       0.009911    0.055527   \n",
       "congestion_surcharge  -0.023495        -0.002266      -0.060883   -0.197608   \n",
       "Airport_fee            0.036483         0.040786       0.126236   -0.004480   \n",
       "time_diff              0.011204         0.016047       0.002842    0.018230   \n",
       "\n",
       "                       store_and_fwd_flag  PULocationID  DOLocationID  \\\n",
       "VendorID                        -0.126133     -0.001315     -0.003946   \n",
       "passenger_count                 -0.016417     -0.000822     -0.000726   \n",
       "trip_distance                   -0.000420     -0.000958     -0.002496   \n",
       "RatecodeID                      -0.004695     -0.001090     -0.000644   \n",
       "store_and_fwd_flag               1.000000      0.000316      0.001456   \n",
       "PULocationID                     0.000316      1.000000     -0.000161   \n",
       "DOLocationID                     0.001456     -0.000161      1.000000   \n",
       "payment_type                    -0.018124      0.002044      0.000394   \n",
       "extra                            0.069783      0.001495      0.002955   \n",
       "tip_amount                      -0.013224      0.000748     -0.000247   \n",
       "tolls_amount                    -0.004572     -0.000868     -0.002290   \n",
       "improvement_surcharge            0.006723     -0.000501     -0.002810   \n",
       "total_amount                    -0.007610      0.000715     -0.002954   \n",
       "congestion_surcharge             0.000398      0.001194      0.000641   \n",
       "Airport_fee                     -0.004677     -0.000654     -0.004940   \n",
       "time_diff                       -0.001221     -0.004317     -0.004939   \n",
       "\n",
       "                       payment_type     extra  tip_amount  tolls_amount  \\\n",
       "VendorID                   0.037849 -0.530096    0.043941      0.023642   \n",
       "passenger_count           -0.032669 -0.039732    0.017175      0.042856   \n",
       "trip_distance              0.011516 -0.001849    0.005847      0.006778   \n",
       "RatecodeID                 0.017300 -0.070959   -0.032172      0.063754   \n",
       "store_and_fwd_flag        -0.018124  0.069783   -0.013224     -0.004572   \n",
       "PULocationID               0.002044  0.001495    0.000748     -0.000868   \n",
       "DOLocationID               0.000394  0.002955   -0.000247     -0.002290   \n",
       "payment_type               1.000000 -0.134051    0.158039      0.016688   \n",
       "extra                     -0.134051  1.000000    0.160331      0.201179   \n",
       "tip_amount                 0.158039  0.160331    1.000000      0.411588   \n",
       "tolls_amount               0.016688  0.201179    0.411588      1.000000   \n",
       "improvement_surcharge     -0.270576  0.170831    0.076436      0.051190   \n",
       "total_amount              -0.007457  0.234346    0.638658      0.684765   \n",
       "congestion_surcharge      -0.148764  0.068088   -0.059346     -0.134409   \n",
       "Airport_fee               -0.053088  0.337456    0.335614      0.437600   \n",
       "time_diff                 -0.001869  0.014919    0.057127      0.074393   \n",
       "\n",
       "                       improvement_surcharge  total_amount  \\\n",
       "VendorID                           -0.063197      0.039695   \n",
       "passenger_count                    -0.002800      0.053224   \n",
       "trip_distance                       0.000459      0.009911   \n",
       "RatecodeID                          0.002579      0.055527   \n",
       "store_and_fwd_flag                  0.006723     -0.007610   \n",
       "PULocationID                       -0.000501      0.000715   \n",
       "DOLocationID                       -0.002810     -0.002954   \n",
       "payment_type                       -0.270576     -0.007457   \n",
       "extra                               0.170831      0.234346   \n",
       "tip_amount                          0.076436      0.638658   \n",
       "tolls_amount                        0.051190      0.684765   \n",
       "improvement_surcharge               1.000000      0.224036   \n",
       "total_amount                        0.224036      1.000000   \n",
       "congestion_surcharge                0.528606     -0.147765   \n",
       "Airport_fee                         0.083739      0.597829   \n",
       "time_diff                           0.002666      0.107297   \n",
       "\n",
       "                       congestion_surcharge  Airport_fee  time_diff  \n",
       "VendorID                          -0.023495     0.036483   0.011204  \n",
       "passenger_count                   -0.002266     0.040786   0.016047  \n",
       "trip_distance                     -0.060883     0.126236   0.002842  \n",
       "RatecodeID                        -0.197608    -0.004480   0.018230  \n",
       "store_and_fwd_flag                 0.000398    -0.004677  -0.001221  \n",
       "PULocationID                       0.001194    -0.000654  -0.004317  \n",
       "DOLocationID                       0.000641    -0.004940  -0.004939  \n",
       "payment_type                      -0.148764    -0.053088  -0.001869  \n",
       "extra                              0.068088     0.337456   0.014919  \n",
       "tip_amount                        -0.059346     0.335614   0.057127  \n",
       "tolls_amount                      -0.134409     0.437600   0.074393  \n",
       "improvement_surcharge              0.528606     0.083739   0.002666  \n",
       "total_amount                      -0.147765     0.597829   0.107297  \n",
       "congestion_surcharge               1.000000    -0.336012  -0.023998  \n",
       "Airport_fee                       -0.336012     1.000000   0.065229  \n",
       "time_diff                         -0.023998     0.065229   1.000000  "
      ]
     },
     "execution_count": 27,
     "metadata": {},
     "output_type": "execute_result"
    }
   ],
   "source": [
    "corr_matrix = data.corr() # To find the correlation between the features\n",
    "corr_matrix"
   ]
  },
  {
   "cell_type": "code",
   "execution_count": 28,
   "id": "5dbb17a0",
   "metadata": {
    "execution": {
     "iopub.execute_input": "2023-12-09T12:29:50.811281Z",
     "iopub.status.busy": "2023-12-09T12:29:50.810496Z",
     "iopub.status.idle": "2023-12-09T12:29:52.098279Z",
     "shell.execute_reply": "2023-12-09T12:29:52.096867Z"
    },
    "papermill": {
     "duration": 1.315812,
     "end_time": "2023-12-09T12:29:52.102925",
     "exception": false,
     "start_time": "2023-12-09T12:29:50.787113",
     "status": "completed"
    },
    "tags": []
   },
   "outputs": [
    {
     "data": {
      "text/plain": [
       "<Axes: >"
      ]
     },
     "execution_count": 28,
     "metadata": {},
     "output_type": "execute_result"
    },
    {
     "data": {
      "image/png": "[encoded data removed]",
      "text/plain": [
       "<Figure size 1400x700 with 2 Axes>"
      ]
     },
     "metadata": {},
     "output_type": "display_data"
    }
   ],
   "source": [
    "plt.figure(figsize=(14,7))\n",
    "sns.heatmap(corr_matrix, annot=True) #visualising using heatmap"
   ]
  },
  {
   "cell_type": "markdown",
   "id": "1beb1f7a",
   "metadata": {
    "papermill": {
     "duration": 0.025264,
     "end_time": "2023-12-09T12:29:52.154437",
     "exception": false,
     "start_time": "2023-12-09T12:29:52.129173",
     "status": "completed"
    },
    "tags": []
   },
   "source": [
    "4) Dropping down unwanted columns"
   ]
  },
  {
   "cell_type": "code",
   "execution_count": 29,
   "id": "1e6d8007",
   "metadata": {
    "execution": {
     "iopub.execute_input": "2023-12-09T12:29:52.210726Z",
     "iopub.status.busy": "2023-12-09T12:29:52.209922Z",
     "iopub.status.idle": "2023-12-09T12:29:52.221346Z",
     "shell.execute_reply": "2023-12-09T12:29:52.220032Z"
    },
    "papermill": {
     "duration": 0.042843,
     "end_time": "2023-12-09T12:29:52.223905",
     "exception": false,
     "start_time": "2023-12-09T12:29:52.181062",
     "status": "completed"
    },
    "tags": []
   },
   "outputs": [],
   "source": [
    "data = data.drop(columns=['VendorID','congestion_surcharge','Airport_fee']) #dropping down unwanted columns"
   ]
  },
  {
   "cell_type": "markdown",
   "id": "8faac2e7",
   "metadata": {
    "papermill": {
     "duration": 0.025156,
     "end_time": "2023-12-09T12:29:52.274613",
     "exception": false,
     "start_time": "2023-12-09T12:29:52.249457",
     "status": "completed"
    },
    "tags": []
   },
   "source": [
    "5) Splitting the data into features and label"
   ]
  },
  {
   "cell_type": "code",
   "execution_count": 30,
   "id": "af0e659b",
   "metadata": {
    "execution": {
     "iopub.execute_input": "2023-12-09T12:29:52.326679Z",
     "iopub.status.busy": "2023-12-09T12:29:52.326276Z",
     "iopub.status.idle": "2023-12-09T12:29:52.337802Z",
     "shell.execute_reply": "2023-12-09T12:29:52.336489Z"
    },
    "papermill": {
     "duration": 0.040527,
     "end_time": "2023-12-09T12:29:52.340274",
     "exception": false,
     "start_time": "2023-12-09T12:29:52.299747",
     "status": "completed"
    },
    "tags": []
   },
   "outputs": [],
   "source": [
    "X = data.drop(columns=['total_amount']) #features\n",
    "y = data['total_amount'] #label"
   ]
  },
  {
   "cell_type": "markdown",
   "id": "5c4f6e88",
   "metadata": {
    "papermill": {
     "duration": 0.026156,
     "end_time": "2023-12-09T12:29:52.393052",
     "exception": false,
     "start_time": "2023-12-09T12:29:52.366896",
     "status": "completed"
    },
    "tags": []
   },
   "source": [
    "# ****Step 5****\n",
    "Splitting the data into train data and validation data"
   ]
  },
  {
   "cell_type": "code",
   "execution_count": 31,
   "id": "a89bae5d",
   "metadata": {
    "execution": {
     "iopub.execute_input": "2023-12-09T12:29:52.447687Z",
     "iopub.status.busy": "2023-12-09T12:29:52.447325Z",
     "iopub.status.idle": "2023-12-09T12:29:52.494439Z",
     "shell.execute_reply": "2023-12-09T12:29:52.493069Z"
    },
    "papermill": {
     "duration": 0.07804,
     "end_time": "2023-12-09T12:29:52.497930",
     "exception": false,
     "start_time": "2023-12-09T12:29:52.419890",
     "status": "completed"
    },
    "tags": []
   },
   "outputs": [
    {
     "name": "stdout",
     "output_type": "stream",
     "text": [
      "The shape of train data is: (140000, 12) (140000,)\n",
      "The shape of validation data is: (35000, 12) (35000,)\n"
     ]
    }
   ],
   "source": [
    "X_train,X_val,y_train,y_val = train_test_split(X,y,test_size=0.2,random_state=42)\n",
    "print(\"The shape of train data is:\",X_train.shape,y_train.shape)\n",
    "print(\"The shape of validation data is:\",X_val.shape,y_val.shape)"
   ]
  },
  {
   "cell_type": "markdown",
   "id": "b49422bb",
   "metadata": {
    "papermill": {
     "duration": 0.030166,
     "end_time": "2023-12-09T12:29:52.557490",
     "exception": false,
     "start_time": "2023-12-09T12:29:52.527324",
     "status": "completed"
    },
    "tags": []
   },
   "source": [
    "Imputing the null values by using simple imputer"
   ]
  },
  {
   "cell_type": "code",
   "execution_count": 32,
   "id": "02321c6d",
   "metadata": {
    "execution": {
     "iopub.execute_input": "2023-12-09T12:29:52.619921Z",
     "iopub.status.busy": "2023-12-09T12:29:52.618914Z",
     "iopub.status.idle": "2023-12-09T12:29:52.678974Z",
     "shell.execute_reply": "2023-12-09T12:29:52.677761Z"
    },
    "papermill": {
     "duration": 0.093748,
     "end_time": "2023-12-09T12:29:52.681827",
     "exception": false,
     "start_time": "2023-12-09T12:29:52.588079",
     "status": "completed"
    },
    "tags": []
   },
   "outputs": [],
   "source": [
    "imp_mean = SimpleImputer(strategy='mean') #Here the strategy used in simple imputer is mean.\n",
    "X_train = imp_mean.fit_transform(X_train)\n",
    "X_val = imp_mean.transform(X_val)"
   ]
  },
  {
   "cell_type": "markdown",
   "id": "5b93f0a3",
   "metadata": {
    "papermill": {
     "duration": 0.028381,
     "end_time": "2023-12-09T12:29:52.740099",
     "exception": false,
     "start_time": "2023-12-09T12:29:52.711718",
     "status": "completed"
    },
    "tags": []
   },
   "source": [
    "# ****Step 6****\n",
    "Same preprocessing steps for test data"
   ]
  },
  {
   "cell_type": "code",
   "execution_count": 33,
   "id": "bf2747cb",
   "metadata": {
    "execution": {
     "iopub.execute_input": "2023-12-09T12:29:52.799726Z",
     "iopub.status.busy": "2023-12-09T12:29:52.799035Z",
     "iopub.status.idle": "2023-12-09T12:29:52.803035Z",
     "shell.execute_reply": "2023-12-09T12:29:52.802187Z"
    },
    "papermill": {
     "duration": 0.036727,
     "end_time": "2023-12-09T12:29:52.805418",
     "exception": false,
     "start_time": "2023-12-09T12:29:52.768691",
     "status": "completed"
    },
    "tags": []
   },
   "outputs": [],
   "source": [
    "#Computing time difference"
   ]
  },
  {
   "cell_type": "code",
   "execution_count": 34,
   "id": "78f07621",
   "metadata": {
    "execution": {
     "iopub.execute_input": "2023-12-09T12:29:52.863996Z",
     "iopub.status.busy": "2023-12-09T12:29:52.863469Z",
     "iopub.status.idle": "2023-12-09T12:29:52.917510Z",
     "shell.execute_reply": "2023-12-09T12:29:52.916288Z"
    },
    "papermill": {
     "duration": 0.086618,
     "end_time": "2023-12-09T12:29:52.920192",
     "exception": false,
     "start_time": "2023-12-09T12:29:52.833574",
     "status": "completed"
    },
    "tags": []
   },
   "outputs": [],
   "source": [
    "X_test['time_diff'] = (((pd.to_datetime(X_test['tpep_dropoff_datetime']))- (pd.to_datetime(X_test['tpep_pickup_datetime']))).dt.total_seconds()/60) # converting string datetime objects to python datetime objects and computing the difference between them.\n",
    "X_test['time_diff'] = X_test['time_diff'].abs() #To find the absolute value since the difference can be negative"
   ]
  },
  {
   "cell_type": "code",
   "execution_count": 35,
   "id": "a093597e",
   "metadata": {
    "execution": {
     "iopub.execute_input": "2023-12-09T12:29:52.975240Z",
     "iopub.status.busy": "2023-12-09T12:29:52.974605Z",
     "iopub.status.idle": "2023-12-09T12:29:52.980833Z",
     "shell.execute_reply": "2023-12-09T12:29:52.979314Z"
    },
    "papermill": {
     "duration": 0.036974,
     "end_time": "2023-12-09T12:29:52.983735",
     "exception": false,
     "start_time": "2023-12-09T12:29:52.946761",
     "status": "completed"
    },
    "tags": []
   },
   "outputs": [],
   "source": [
    "#Preprocessing of store_and_fwd_flag"
   ]
  },
  {
   "cell_type": "code",
   "execution_count": 36,
   "id": "d8c71006",
   "metadata": {
    "execution": {
     "iopub.execute_input": "2023-12-09T12:29:53.042244Z",
     "iopub.status.busy": "2023-12-09T12:29:53.040883Z",
     "iopub.status.idle": "2023-12-09T12:29:53.064038Z",
     "shell.execute_reply": "2023-12-09T12:29:53.061901Z"
    },
    "papermill": {
     "duration": 0.055495,
     "end_time": "2023-12-09T12:29:53.066948",
     "exception": false,
     "start_time": "2023-12-09T12:29:53.011453",
     "status": "completed"
    },
    "tags": []
   },
   "outputs": [],
   "source": [
    "X_test['store_and_fwd_flag'].fillna('N', inplace=True)\n",
    "X_test['store_and_fwd_flag'] = label_encoder.fit_transform(X_test['store_and_fwd_flag'])"
   ]
  },
  {
   "cell_type": "code",
   "execution_count": 37,
   "id": "b42616e2",
   "metadata": {
    "execution": {
     "iopub.execute_input": "2023-12-09T12:29:53.121191Z",
     "iopub.status.busy": "2023-12-09T12:29:53.120767Z",
     "iopub.status.idle": "2023-12-09T12:29:53.126056Z",
     "shell.execute_reply": "2023-12-09T12:29:53.124964Z"
    },
    "papermill": {
     "duration": 0.034803,
     "end_time": "2023-12-09T12:29:53.128229",
     "exception": false,
     "start_time": "2023-12-09T12:29:53.093426",
     "status": "completed"
    },
    "tags": []
   },
   "outputs": [],
   "source": [
    "#Preprocessing of payment_type"
   ]
  },
  {
   "cell_type": "code",
   "execution_count": 38,
   "id": "def1c070",
   "metadata": {
    "execution": {
     "iopub.execute_input": "2023-12-09T12:29:53.182740Z",
     "iopub.status.busy": "2023-12-09T12:29:53.181922Z",
     "iopub.status.idle": "2023-12-09T12:29:53.200764Z",
     "shell.execute_reply": "2023-12-09T12:29:53.199440Z"
    },
    "papermill": {
     "duration": 0.049477,
     "end_time": "2023-12-09T12:29:53.203373",
     "exception": false,
     "start_time": "2023-12-09T12:29:53.153896",
     "status": "completed"
    },
    "tags": []
   },
   "outputs": [],
   "source": [
    "X_test['payment_type'] = label_encoder.fit_transform(X_test['payment_type']) #encoding payment_type using label encoder"
   ]
  },
  {
   "cell_type": "code",
   "execution_count": 39,
   "id": "2a5fa44b",
   "metadata": {
    "execution": {
     "iopub.execute_input": "2023-12-09T12:29:53.258066Z",
     "iopub.status.busy": "2023-12-09T12:29:53.257198Z",
     "iopub.status.idle": "2023-12-09T12:29:53.261715Z",
     "shell.execute_reply": "2023-12-09T12:29:53.260812Z"
    },
    "papermill": {
     "duration": 0.034589,
     "end_time": "2023-12-09T12:29:53.264025",
     "exception": false,
     "start_time": "2023-12-09T12:29:53.229436",
     "status": "completed"
    },
    "tags": []
   },
   "outputs": [],
   "source": [
    "#Dropping unwanted columns"
   ]
  },
  {
   "cell_type": "code",
   "execution_count": 40,
   "id": "8b7d3711",
   "metadata": {
    "execution": {
     "iopub.execute_input": "2023-12-09T12:29:53.318275Z",
     "iopub.status.busy": "2023-12-09T12:29:53.317699Z",
     "iopub.status.idle": "2023-12-09T12:29:53.329816Z",
     "shell.execute_reply": "2023-12-09T12:29:53.328369Z"
    },
    "papermill": {
     "duration": 0.042351,
     "end_time": "2023-12-09T12:29:53.332478",
     "exception": false,
     "start_time": "2023-12-09T12:29:53.290127",
     "status": "completed"
    },
    "tags": []
   },
   "outputs": [],
   "source": [
    "X_test = X_test.drop(columns=['VendorID','tpep_pickup_datetime','tpep_dropoff_datetime','congestion_surcharge','Airport_fee']) #dropping unwanted columns"
   ]
  },
  {
   "cell_type": "code",
   "execution_count": 41,
   "id": "4f808eb0",
   "metadata": {
    "execution": {
     "iopub.execute_input": "2023-12-09T12:29:53.386604Z",
     "iopub.status.busy": "2023-12-09T12:29:53.386094Z",
     "iopub.status.idle": "2023-12-09T12:29:53.391897Z",
     "shell.execute_reply": "2023-12-09T12:29:53.390119Z"
    },
    "papermill": {
     "duration": 0.035971,
     "end_time": "2023-12-09T12:29:53.394370",
     "exception": false,
     "start_time": "2023-12-09T12:29:53.358399",
     "status": "completed"
    },
    "tags": []
   },
   "outputs": [],
   "source": [
    "#Imputing the null values"
   ]
  },
  {
   "cell_type": "code",
   "execution_count": 42,
   "id": "b5952f94",
   "metadata": {
    "execution": {
     "iopub.execute_input": "2023-12-09T12:29:53.448783Z",
     "iopub.status.busy": "2023-12-09T12:29:53.448228Z",
     "iopub.status.idle": "2023-12-09T12:29:53.479001Z",
     "shell.execute_reply": "2023-12-09T12:29:53.477514Z"
    },
    "papermill": {
     "duration": 0.062243,
     "end_time": "2023-12-09T12:29:53.482285",
     "exception": false,
     "start_time": "2023-12-09T12:29:53.420042",
     "status": "completed"
    },
    "tags": []
   },
   "outputs": [],
   "source": [
    "X_test = imp_mean.fit_transform(X_test) #imputing the null values"
   ]
  },
  {
   "cell_type": "markdown",
   "id": "b5f72446",
   "metadata": {
    "papermill": {
     "duration": 0.026333,
     "end_time": "2023-12-09T12:29:53.535280",
     "exception": false,
     "start_time": "2023-12-09T12:29:53.508947",
     "status": "completed"
    },
    "tags": []
   },
   "source": [
    "# ****Step 7****\n",
    "Model Selection and training"
   ]
  },
  {
   "cell_type": "markdown",
   "id": "d35b8009",
   "metadata": {
    "papermill": {
     "duration": 0.028344,
     "end_time": "2023-12-09T12:29:53.589456",
     "exception": false,
     "start_time": "2023-12-09T12:29:53.561112",
     "status": "completed"
    },
    "tags": []
   },
   "source": [
    "# Top 3 Best Models"
   ]
  },
  {
   "cell_type": "code",
   "execution_count": 43,
   "id": "503a7753",
   "metadata": {
    "execution": {
     "iopub.execute_input": "2023-12-09T12:29:53.643859Z",
     "iopub.status.busy": "2023-12-09T12:29:53.643403Z",
     "iopub.status.idle": "2023-12-09T12:29:53.648698Z",
     "shell.execute_reply": "2023-12-09T12:29:53.647356Z"
    },
    "papermill": {
     "duration": 0.036217,
     "end_time": "2023-12-09T12:29:53.651521",
     "exception": false,
     "start_time": "2023-12-09T12:29:53.615304",
     "status": "completed"
    },
    "tags": []
   },
   "outputs": [],
   "source": [
    "#Model 1: Extra Trees Regressor\n",
    "    #Submission Score: 0.93785\n",
    "    #r2 score: 0.9513\n",
    "    #mse score: 31.667\n",
    "    #mae score: 2.862"
   ]
  },
  {
   "cell_type": "code",
   "execution_count": 44,
   "id": "c2fdbbb3",
   "metadata": {
    "execution": {
     "iopub.execute_input": "2023-12-09T12:29:53.706788Z",
     "iopub.status.busy": "2023-12-09T12:29:53.706361Z",
     "iopub.status.idle": "2023-12-09T12:29:53.711266Z",
     "shell.execute_reply": "2023-12-09T12:29:53.709947Z"
    },
    "papermill": {
     "duration": 0.034981,
     "end_time": "2023-12-09T12:29:53.713690",
     "exception": false,
     "start_time": "2023-12-09T12:29:53.678709",
     "status": "completed"
    },
    "tags": []
   },
   "outputs": [],
   "source": [
    "#Model 2: Random Forest Regressor\n",
    "    #Submission Score: 0.93531\n",
    "    #r2 score: 0.9536\n",
    "    #mse score: 30.1689\n",
    "    #mae score: 2.8719"
   ]
  },
  {
   "cell_type": "code",
   "execution_count": 45,
   "id": "4cb807eb",
   "metadata": {
    "execution": {
     "iopub.execute_input": "2023-12-09T12:29:53.766979Z",
     "iopub.status.busy": "2023-12-09T12:29:53.766556Z",
     "iopub.status.idle": "2023-12-09T12:29:53.771084Z",
     "shell.execute_reply": "2023-12-09T12:29:53.770032Z"
    },
    "papermill": {
     "duration": 0.033678,
     "end_time": "2023-12-09T12:29:53.773128",
     "exception": false,
     "start_time": "2023-12-09T12:29:53.739450",
     "status": "completed"
    },
    "tags": []
   },
   "outputs": [],
   "source": [
    "#Model 3: Gradient Boosting Regressor\n",
    "    #Submission Score: 0.93022\n",
    "    #r2 score: 0.9425\n",
    "    #mse score: 37.40\n",
    "    #mae score: 3.149"
   ]
  },
  {
   "cell_type": "markdown",
   "id": "973a5cc2",
   "metadata": {
    "papermill": {
     "duration": 0.025561,
     "end_time": "2023-12-09T12:29:53.824620",
     "exception": false,
     "start_time": "2023-12-09T12:29:53.799059",
     "status": "completed"
    },
    "tags": []
   },
   "source": [
    "# ****Model 1: Extra Trees Regressor****"
   ]
  },
  {
   "cell_type": "markdown",
   "id": "59cbeb01",
   "metadata": {
    "papermill": {
     "duration": 0.026559,
     "end_time": "2023-12-09T12:29:53.877089",
     "exception": false,
     "start_time": "2023-12-09T12:29:53.850530",
     "status": "completed"
    },
    "tags": []
   },
   "source": [
    "****Best Model****"
   ]
  },
  {
   "cell_type": "code",
   "execution_count": 46,
   "id": "374e4e85",
   "metadata": {
    "execution": {
     "iopub.execute_input": "2023-12-09T12:29:53.929851Z",
     "iopub.status.busy": "2023-12-09T12:29:53.929264Z",
     "iopub.status.idle": "2023-12-09T12:30:54.013763Z",
     "shell.execute_reply": "2023-12-09T12:30:54.012567Z"
    },
    "papermill": {
     "duration": 60.137313,
     "end_time": "2023-12-09T12:30:54.039832",
     "exception": false,
     "start_time": "2023-12-09T12:29:53.902519",
     "status": "completed"
    },
    "tags": []
   },
   "outputs": [
    {
     "name": "stdout",
     "output_type": "stream",
     "text": [
      "The r2 score is  0.9513378780936222\n",
      "The mse score is  31.667272480623424\n",
      "The mae score is 2.8620772114285717\n"
     ]
    }
   ],
   "source": [
    "etr = ExtraTreesRegressor(random_state=0, n_estimators=100) #Instantiate object of Extra Trees Regressor \n",
    "etr.fit(X_train, y_train) #Calling fit method to train the model\n",
    "y_pred = etr.predict(X_test) #Predicting X_test\n",
    "y_predetr = etr.predict(X_val) #Predicting X_val\n",
    "r2etr = r2_score(y_val,y_predetr) #Obtaining r2 score\n",
    "mseetr = mean_squared_error(y_val, y_predetr) #Obtaining Mean Squared Error\n",
    "maeetr = mean_absolute_error(y_val, y_predetr) #Obtaining Mean Absolute Error\n",
    "print(\"The r2 score is \", r2etr)\n",
    "print(\"The mse score is \", mseetr)\n",
    "print(\"The mae score is\", maeetr)"
   ]
  },
  {
   "cell_type": "markdown",
   "id": "20fea188",
   "metadata": {
    "papermill": {
     "duration": 0.025752,
     "end_time": "2023-12-09T12:30:54.091407",
     "exception": false,
     "start_time": "2023-12-09T12:30:54.065655",
     "status": "completed"
    },
    "tags": []
   },
   "source": [
    "# ****Model 2: Random Forest Regressor****"
   ]
  },
  {
   "cell_type": "code",
   "execution_count": 47,
   "id": "e5d7988b",
   "metadata": {
    "execution": {
     "iopub.execute_input": "2023-12-09T12:30:54.144748Z",
     "iopub.status.busy": "2023-12-09T12:30:54.144356Z",
     "iopub.status.idle": "2023-12-09T12:32:53.927044Z",
     "shell.execute_reply": "2023-12-09T12:32:53.925279Z"
    },
    "papermill": {
     "duration": 119.838189,
     "end_time": "2023-12-09T12:32:53.955763",
     "exception": false,
     "start_time": "2023-12-09T12:30:54.117574",
     "status": "completed"
    },
    "tags": []
   },
   "outputs": [
    {
     "name": "stdout",
     "output_type": "stream",
     "text": [
      "The r2 score is  0.9542634329478102\n",
      "The mse score is  29.763443812756847\n",
      "The mae score is  2.864233197142857\n"
     ]
    }
   ],
   "source": [
    "rfr = RandomForestRegressor() #Instantiate object of Random Forest Regressor \n",
    "rfr.fit(X_train,y_train) #Calling fit method to train the model\n",
    "y_predrfr = rfr.predict(X_val) #Predicting X_val\n",
    "r2rfr = r2_score(y_val,y_predrfr) #Obtaining r2 score\n",
    "mserfr = mean_squared_error(y_val,y_predrfr) #Obtaining Mean Squared Error\n",
    "maerfr = mean_absolute_error(y_val,y_predrfr) #Obtaining Mean Absolute Error\n",
    "print(\"The r2 score is \",r2rfr)\n",
    "print(\"The mse score is \",mserfr)\n",
    "print(\"The mae score is \", maerfr)"
   ]
  },
  {
   "cell_type": "markdown",
   "id": "8e55ef1c",
   "metadata": {
    "papermill": {
     "duration": 0.026022,
     "end_time": "2023-12-09T12:32:54.008457",
     "exception": false,
     "start_time": "2023-12-09T12:32:53.982435",
     "status": "completed"
    },
    "tags": []
   },
   "source": [
    "# ****Model 3: Gradient Boosting Regressor****"
   ]
  },
  {
   "cell_type": "code",
   "execution_count": 48,
   "id": "9f9f4ea0",
   "metadata": {
    "execution": {
     "iopub.execute_input": "2023-12-09T12:32:54.064170Z",
     "iopub.status.busy": "2023-12-09T12:32:54.063472Z",
     "iopub.status.idle": "2023-12-09T12:33:20.143696Z",
     "shell.execute_reply": "2023-12-09T12:33:20.142372Z"
    },
    "papermill": {
     "duration": 26.111691,
     "end_time": "2023-12-09T12:33:20.146145",
     "exception": false,
     "start_time": "2023-12-09T12:32:54.034454",
     "status": "completed"
    },
    "tags": []
   },
   "outputs": [
    {
     "name": "stdout",
     "output_type": "stream",
     "text": [
      "The r2 score is  0.942524959049681\n",
      "The mse score is  37.40235138349357\n",
      "The mae score is  3.1494272887088517\n"
     ]
    }
   ],
   "source": [
    "gbr = GradientBoostingRegressor(random_state=0) #Instantiate object of Gradient Boosting Regressor\n",
    "gbr.fit(X_train,y_train) #Calling fit method to train the model\n",
    "y_predgbr = gbr.predict(X_val) #Predicting X_val\n",
    "r2gbr = r2_score(y_val,y_predgbr) #Obtaining r2 score\n",
    "msegbr = mean_squared_error(y_val,y_predgbr) #Obtaining Mean Squared Error\n",
    "maegbr = mean_absolute_error(y_val, y_predgbr) #Obtaining Mean Absolute Error\n",
    "print(\"The r2 score is \",r2gbr)\n",
    "print(\"The mse score is \",msegbr)\n",
    "print(\"The mae score is \", maegbr)"
   ]
  },
  {
   "cell_type": "markdown",
   "id": "d238a682",
   "metadata": {
    "papermill": {
     "duration": 0.025576,
     "end_time": "2023-12-09T12:33:20.197930",
     "exception": false,
     "start_time": "2023-12-09T12:33:20.172354",
     "status": "completed"
    },
    "tags": []
   },
   "source": [
    "# ****Other Models****"
   ]
  },
  {
   "cell_type": "code",
   "execution_count": 49,
   "id": "617772b7",
   "metadata": {
    "execution": {
     "iopub.execute_input": "2023-12-09T12:33:20.253568Z",
     "iopub.status.busy": "2023-12-09T12:33:20.252919Z",
     "iopub.status.idle": "2023-12-09T12:33:20.257473Z",
     "shell.execute_reply": "2023-12-09T12:33:20.256567Z"
    },
    "papermill": {
     "duration": 0.036231,
     "end_time": "2023-12-09T12:33:20.260542",
     "exception": false,
     "start_time": "2023-12-09T12:33:20.224311",
     "status": "completed"
    },
    "tags": []
   },
   "outputs": [],
   "source": [
    "#Model 4: Voting Regressor\n",
    "    #r2 score: 0.9167\n",
    "    #mse score: 54.189\n",
    "    #mae score: 4.188"
   ]
  },
  {
   "cell_type": "code",
   "execution_count": 50,
   "id": "c6937f63",
   "metadata": {
    "execution": {
     "iopub.execute_input": "2023-12-09T12:33:20.317364Z",
     "iopub.status.busy": "2023-12-09T12:33:20.316904Z",
     "iopub.status.idle": "2023-12-09T12:33:20.321523Z",
     "shell.execute_reply": "2023-12-09T12:33:20.320243Z"
    },
    "papermill": {
     "duration": 0.034951,
     "end_time": "2023-12-09T12:33:20.324457",
     "exception": false,
     "start_time": "2023-12-09T12:33:20.289506",
     "status": "completed"
    },
    "tags": []
   },
   "outputs": [],
   "source": [
    "#Model 5: Decision Tree Regressor\n",
    "    #r2 score: 0.8857\n",
    "    #mse score: 74.32\n",
    "    #mae score: 4.728"
   ]
  },
  {
   "cell_type": "code",
   "execution_count": 51,
   "id": "18672952",
   "metadata": {
    "execution": {
     "iopub.execute_input": "2023-12-09T12:33:20.400419Z",
     "iopub.status.busy": "2023-12-09T12:33:20.399201Z",
     "iopub.status.idle": "2023-12-09T12:33:20.405143Z",
     "shell.execute_reply": "2023-12-09T12:33:20.403674Z"
    },
    "papermill": {
     "duration": 0.05183,
     "end_time": "2023-12-09T12:33:20.409460",
     "exception": false,
     "start_time": "2023-12-09T12:33:20.357630",
     "status": "completed"
    },
    "tags": []
   },
   "outputs": [],
   "source": [
    "#Model 6: KNN Regressor\n",
    "    #r2 score: 0.7227\n",
    "    #mse score: 180.449\n",
    "    #mae score: 7.462"
   ]
  },
  {
   "cell_type": "code",
   "execution_count": 52,
   "id": "7854a655",
   "metadata": {
    "execution": {
     "iopub.execute_input": "2023-12-09T12:33:20.467988Z",
     "iopub.status.busy": "2023-12-09T12:33:20.467329Z",
     "iopub.status.idle": "2023-12-09T12:33:20.471401Z",
     "shell.execute_reply": "2023-12-09T12:33:20.470488Z"
    },
    "papermill": {
     "duration": 0.035027,
     "end_time": "2023-12-09T12:33:20.473619",
     "exception": false,
     "start_time": "2023-12-09T12:33:20.438592",
     "status": "completed"
    },
    "tags": []
   },
   "outputs": [],
   "source": [
    "#Model 7: Ridge Regressor\n",
    "    #r2 score: 0.6555\n",
    "    #mse score: 224.16\n",
    "    #mae score: 8.868"
   ]
  },
  {
   "cell_type": "code",
   "execution_count": 53,
   "id": "fb8b5750",
   "metadata": {
    "execution": {
     "iopub.execute_input": "2023-12-09T12:33:20.527567Z",
     "iopub.status.busy": "2023-12-09T12:33:20.526933Z",
     "iopub.status.idle": "2023-12-09T12:33:20.531657Z",
     "shell.execute_reply": "2023-12-09T12:33:20.530631Z"
    },
    "papermill": {
     "duration": 0.034839,
     "end_time": "2023-12-09T12:33:20.534307",
     "exception": false,
     "start_time": "2023-12-09T12:33:20.499468",
     "status": "completed"
    },
    "tags": []
   },
   "outputs": [],
   "source": [
    "#Model 8: Linear Regression\n",
    "    #r2 score: 0.6555\n",
    "    #mse score: 224.16\n",
    "    #mae score: 8.8688"
   ]
  },
  {
   "cell_type": "code",
   "execution_count": 54,
   "id": "c116ee08",
   "metadata": {
    "execution": {
     "iopub.execute_input": "2023-12-09T12:33:20.589523Z",
     "iopub.status.busy": "2023-12-09T12:33:20.589145Z",
     "iopub.status.idle": "2023-12-09T12:33:20.594380Z",
     "shell.execute_reply": "2023-12-09T12:33:20.593122Z"
    },
    "papermill": {
     "duration": 0.034741,
     "end_time": "2023-12-09T12:33:20.596585",
     "exception": false,
     "start_time": "2023-12-09T12:33:20.561844",
     "status": "completed"
    },
    "tags": []
   },
   "outputs": [],
   "source": [
    "#Model 9: Adaboost Regressor\n",
    "    #r2 score: 0.6183\n",
    "    #mse score: 248.34\n",
    "    #mae score: 11.819"
   ]
  },
  {
   "cell_type": "markdown",
   "id": "e96139fb",
   "metadata": {
    "papermill": {
     "duration": 0.026497,
     "end_time": "2023-12-09T12:33:20.649898",
     "exception": false,
     "start_time": "2023-12-09T12:33:20.623401",
     "status": "completed"
    },
    "tags": []
   },
   "source": [
    "# ****Model 4: Linear Regressor****"
   ]
  },
  {
   "cell_type": "code",
   "execution_count": 55,
   "id": "1f9174b3",
   "metadata": {
    "execution": {
     "iopub.execute_input": "2023-12-09T12:33:20.704452Z",
     "iopub.status.busy": "2023-12-09T12:33:20.703389Z",
     "iopub.status.idle": "2023-12-09T12:33:20.846934Z",
     "shell.execute_reply": "2023-12-09T12:33:20.845437Z"
    },
    "papermill": {
     "duration": 0.1744,
     "end_time": "2023-12-09T12:33:20.850271",
     "exception": false,
     "start_time": "2023-12-09T12:33:20.675871",
     "status": "completed"
    },
    "scrolled": true,
    "tags": []
   },
   "outputs": [
    {
     "name": "stdout",
     "output_type": "stream",
     "text": [
      "The r2 score is  0.655536106177294\n",
      "The mse score is  224.16268666637228\n",
      "The mae score is  8.868802437182046\n"
     ]
    }
   ],
   "source": [
    "lr = LinearRegression() #Instantiate object of Linear Regressor\n",
    "lr.fit(X_train,y_train) #Calling fit method to train the model\n",
    "y_predlr = lr.predict(X_val) #Predicting X_val\n",
    "r2lr = r2_score(y_val,y_predlr) #Obtaining r2 score\n",
    "mselr = mean_squared_error(y_val,y_predlr) #Obtaining Mean Squared Error\n",
    "maelr = mean_absolute_error(y_val, y_predlr) #Obtaining Mean Absolute Error\n",
    "print(\"The r2 score is \",r2lr)\n",
    "print(\"The mse score is \",mselr)\n",
    "print(\"The mae score is \",maelr)"
   ]
  },
  {
   "cell_type": "markdown",
   "id": "cb894dfe",
   "metadata": {
    "papermill": {
     "duration": 0.036464,
     "end_time": "2023-12-09T12:33:20.964775",
     "exception": false,
     "start_time": "2023-12-09T12:33:20.928311",
     "status": "completed"
    },
    "tags": []
   },
   "source": [
    "# ****Model 5: Voting Regressor****"
   ]
  },
  {
   "cell_type": "code",
   "execution_count": 56,
   "id": "353f5358",
   "metadata": {
    "execution": {
     "iopub.execute_input": "2023-12-09T12:33:21.019961Z",
     "iopub.status.busy": "2023-12-09T12:33:21.019526Z",
     "iopub.status.idle": "2023-12-09T12:33:21.024389Z",
     "shell.execute_reply": "2023-12-09T12:33:21.023304Z"
    },
    "papermill": {
     "duration": 0.035751,
     "end_time": "2023-12-09T12:33:21.026450",
     "exception": false,
     "start_time": "2023-12-09T12:33:20.990699",
     "status": "completed"
    },
    "tags": []
   },
   "outputs": [],
   "source": [
    "#Top 4th Best Model"
   ]
  },
  {
   "cell_type": "code",
   "execution_count": 57,
   "id": "5e6dffd3",
   "metadata": {
    "execution": {
     "iopub.execute_input": "2023-12-09T12:33:21.081264Z",
     "iopub.status.busy": "2023-12-09T12:33:21.080385Z",
     "iopub.status.idle": "2023-12-09T12:35:49.262406Z",
     "shell.execute_reply": "2023-12-09T12:35:49.261068Z"
    },
    "papermill": {
     "duration": 148.269193,
     "end_time": "2023-12-09T12:35:49.321909",
     "exception": false,
     "start_time": "2023-12-09T12:33:21.052716",
     "status": "completed"
    },
    "tags": []
   },
   "outputs": [
    {
     "name": "stdout",
     "output_type": "stream",
     "text": [
      "The r2 score is  0.9167401229262065\n",
      "The mse score is  54.1820436657422\n",
      "The mae score is  4.185859333843674\n"
     ]
    }
   ],
   "source": [
    "vr = VotingRegressor(estimators=[('gb',gbr),('rf',rfr),('lr',lr)]) #Instantiate object of Voting Regressor\n",
    "vr.fit(X_train,y_train) #Calling fit method to train the model\n",
    "y_predvr = vr.predict(X_val) #Predicting X_val\n",
    "r2vr = r2_score(y_val,y_predvr) #Obtaining r2 score\n",
    "msevr = mean_squared_error(y_val,y_predvr) #Obtaining Mean Squared Error\n",
    "maevr = mean_absolute_error(y_val, y_predvr) #Obtaining Mean Absolute Error\n",
    "print(\"The r2 score is \",r2vr)\n",
    "print(\"The mse score is \",msevr)\n",
    "print(\"The mae score is \", maevr)"
   ]
  },
  {
   "cell_type": "markdown",
   "id": "20b33ac5",
   "metadata": {
    "papermill": {
     "duration": 0.030298,
     "end_time": "2023-12-09T12:35:49.405771",
     "exception": false,
     "start_time": "2023-12-09T12:35:49.375473",
     "status": "completed"
    },
    "tags": []
   },
   "source": [
    "# ****Model 6: Decision Tree Regressor****"
   ]
  },
  {
   "cell_type": "code",
   "execution_count": 58,
   "id": "bf9f0240",
   "metadata": {
    "execution": {
     "iopub.execute_input": "2023-12-09T12:35:49.467645Z",
     "iopub.status.busy": "2023-12-09T12:35:49.467219Z",
     "iopub.status.idle": "2023-12-09T12:35:49.877430Z",
     "shell.execute_reply": "2023-12-09T12:35:49.876408Z"
    },
    "papermill": {
     "duration": 0.444938,
     "end_time": "2023-12-09T12:35:49.879726",
     "exception": false,
     "start_time": "2023-12-09T12:35:49.434788",
     "status": "completed"
    },
    "tags": []
   },
   "outputs": [
    {
     "name": "stdout",
     "output_type": "stream",
     "text": [
      "The r2 score is  0.8857943525410829\n",
      "The mse score is  74.32025598607427\n",
      "The mae score is  4.728010407259367\n"
     ]
    }
   ],
   "source": [
    "dtr = DecisionTreeRegressor(max_depth=5) #Instantiate object of Decision Tree Regressor\n",
    "dtr.fit(X_train,y_train) #Calling fit method to train the model\n",
    "y_preddtr = dtr.predict(X_val) #Predicting X_val\n",
    "r2dtr = r2_score(y_val,y_preddtr) #Obtaining r2 score\n",
    "msedtr = mean_squared_error(y_val,y_preddtr) #Obtaining Mean Squared Error\n",
    "maedtr = mean_absolute_error(y_val, y_preddtr) #Obtaining Mean Absolute Error\n",
    "print(\"The r2 score is \",r2dtr)\n",
    "print(\"The mse score is \",msedtr)\n",
    "print(\"The mae score is \", maedtr)"
   ]
  },
  {
   "cell_type": "markdown",
   "id": "0ea50041",
   "metadata": {
    "papermill": {
     "duration": 0.02622,
     "end_time": "2023-12-09T12:35:49.933169",
     "exception": false,
     "start_time": "2023-12-09T12:35:49.906949",
     "status": "completed"
    },
    "tags": []
   },
   "source": [
    "# ****Model 7: KNN Regressor****"
   ]
  },
  {
   "cell_type": "code",
   "execution_count": 59,
   "id": "052c6546",
   "metadata": {
    "execution": {
     "iopub.execute_input": "2023-12-09T12:35:49.992718Z",
     "iopub.status.busy": "2023-12-09T12:35:49.992078Z",
     "iopub.status.idle": "2023-12-09T12:35:55.289001Z",
     "shell.execute_reply": "2023-12-09T12:35:55.288091Z"
    },
    "papermill": {
     "duration": 5.329713,
     "end_time": "2023-12-09T12:35:55.291366",
     "exception": false,
     "start_time": "2023-12-09T12:35:49.961653",
     "status": "completed"
    },
    "tags": []
   },
   "outputs": [
    {
     "name": "stdout",
     "output_type": "stream",
     "text": [
      "The r2 score is  0.7227103536352295\n",
      "The mse score is  180.4484975888\n",
      "The mae score is  7.462277942857143\n"
     ]
    }
   ],
   "source": [
    "knn = KNeighborsRegressor() #Instantiate object of KNN Regressor\n",
    "knn.fit(X_train,y_train) #Calling fit method to train the model\n",
    "y_predknn = knn.predict(X_val) #Predicting X_val\n",
    "r2knn = r2_score(y_val,y_predknn) #Obtaining r2 score\n",
    "mseknn = mean_squared_error(y_val,y_predknn) #Obtaining Mean Squared Error\n",
    "maeknn = mean_absolute_error(y_val, y_predknn) #Obtaining Mean Absolute Error\n",
    "print(\"The r2 score is \",r2knn)\n",
    "print(\"The mse score is \",mseknn)\n",
    "print(\"The mae score is \", maeknn)"
   ]
  },
  {
   "cell_type": "markdown",
   "id": "309ae45c",
   "metadata": {
    "papermill": {
     "duration": 0.025765,
     "end_time": "2023-12-09T12:35:55.343579",
     "exception": false,
     "start_time": "2023-12-09T12:35:55.317814",
     "status": "completed"
    },
    "tags": []
   },
   "source": [
    "# ****Model 8: Ridge Regressor****"
   ]
  },
  {
   "cell_type": "code",
   "execution_count": 60,
   "id": "c6a02e09",
   "metadata": {
    "execution": {
     "iopub.execute_input": "2023-12-09T12:35:55.399736Z",
     "iopub.status.busy": "2023-12-09T12:35:55.399106Z",
     "iopub.status.idle": "2023-12-09T12:35:55.426429Z",
     "shell.execute_reply": "2023-12-09T12:35:55.425296Z"
    },
    "papermill": {
     "duration": 0.058364,
     "end_time": "2023-12-09T12:35:55.429602",
     "exception": false,
     "start_time": "2023-12-09T12:35:55.371238",
     "status": "completed"
    },
    "tags": []
   },
   "outputs": [
    {
     "name": "stdout",
     "output_type": "stream",
     "text": [
      "The r2 score is  0.6555361215066278\n",
      "The mse score is  224.1626766906834\n",
      "The mae score is  8.868798518598037\n"
     ]
    }
   ],
   "source": [
    "ridge = Ridge(alpha=0.1) #Instantiate object of Ridge Regressor\n",
    "ridge.fit(X_train,y_train) #Calling fit method to train the model\n",
    "y_predridge = ridge.predict(X_val) #Predicting X_val\n",
    "r2ridge = r2_score(y_val,y_predridge) #Obtaining r2 score\n",
    "mseridge = mean_squared_error(y_val,y_predridge) #Obtaining Mean Squared Error\n",
    "maeridge = mean_absolute_error(y_val, y_predridge) #Obtaining Mean Absolute Error\n",
    "print(\"The r2 score is \",r2ridge)\n",
    "print(\"The mse score is \",mseridge)\n",
    "print(\"The mae score is \", maeridge)"
   ]
  },
  {
   "cell_type": "markdown",
   "id": "7d422a1e",
   "metadata": {
    "papermill": {
     "duration": 0.044084,
     "end_time": "2023-12-09T12:35:55.521246",
     "exception": false,
     "start_time": "2023-12-09T12:35:55.477162",
     "status": "completed"
    },
    "tags": []
   },
   "source": [
    "# ****Model 9: Adaboost Regressor****"
   ]
  },
  {
   "cell_type": "code",
   "execution_count": 61,
   "id": "3fa4f669",
   "metadata": {
    "execution": {
     "iopub.execute_input": "2023-12-09T12:35:55.583472Z",
     "iopub.status.busy": "2023-12-09T12:35:55.583054Z",
     "iopub.status.idle": "2023-12-09T12:35:59.638266Z",
     "shell.execute_reply": "2023-12-09T12:35:59.637032Z"
    },
    "papermill": {
     "duration": 4.085763,
     "end_time": "2023-12-09T12:35:59.640741",
     "exception": false,
     "start_time": "2023-12-09T12:35:55.554978",
     "status": "completed"
    },
    "tags": []
   },
   "outputs": [
    {
     "name": "stdout",
     "output_type": "stream",
     "text": [
      "The r2 score is  0.6183818400981436\n",
      "The mse score is  248.34112816569038\n",
      "The mae score is  11.819947192020987\n"
     ]
    }
   ],
   "source": [
    "abr = AdaBoostRegressor(random_state=0, n_estimators=100) #Instantiate object of Adaboost Regressor\n",
    "abr.fit(X_train,y_train) #Calling fit method to train the model\n",
    "y_predabr = abr.predict(X_val) #Predicting X_val\n",
    "r2abr = r2_score(y_val,y_predabr) #Obtaining r2 score\n",
    "mseabr = mean_squared_error(y_val,y_predabr) #Obtaining Mean Squared Error\n",
    "maeabr = mean_absolute_error(y_val, y_predabr) #Obtaining Mean Absolute Error\n",
    "print(\"The r2 score is \",r2abr)\n",
    "print(\"The mse score is \",mseabr)\n",
    "print(\"The mae score is \",maeabr)"
   ]
  },
  {
   "cell_type": "code",
   "execution_count": 62,
   "id": "43a5ce17",
   "metadata": {
    "execution": {
     "iopub.execute_input": "2023-12-09T12:35:59.698855Z",
     "iopub.status.busy": "2023-12-09T12:35:59.697973Z",
     "iopub.status.idle": "2023-12-09T12:35:59.703527Z",
     "shell.execute_reply": "2023-12-09T12:35:59.702514Z"
    },
    "papermill": {
     "duration": 0.036913,
     "end_time": "2023-12-09T12:35:59.705935",
     "exception": false,
     "start_time": "2023-12-09T12:35:59.669022",
     "status": "completed"
    },
    "tags": []
   },
   "outputs": [],
   "source": [
    "#Step 8: Hypertuning\n",
    "#Hypertuning the model required lot of time\n",
    "#Hypertuning used is GridSearchCV\n",
    "#from sklearn.model_selection import GridSearchCV\n",
    "#param_grid = {\n",
    "    #'n_estimators': [10,50,100],\n",
    "    #'criterion': ['mse', 'mae'],\n",
    "    #'max_depth': [2,8,16,32,50],\n",
    "    #'min_sample_split': [2,4,6],\n",
    "    #'min_sample_leaf': [1,2],\n",
    "    #'oob_score': [True, False],\n",
    "    #'max_features': ['auto','sqrt','log2'],    \n",
    "    #'bootstrap': [True, False],\n",
    "    #'warm_start': [True, False],\n",
    "#}\n",
    "#grid_search = GridSearchCV(etr, param_grid, cv=5, scoring='r2_score', return_train_score=True)\n",
    "#grid_search.fit(X_train,y_train)"
   ]
  },
  {
   "cell_type": "markdown",
   "id": "98146647",
   "metadata": {
    "papermill": {
     "duration": 0.026609,
     "end_time": "2023-12-09T12:35:59.760534",
     "exception": false,
     "start_time": "2023-12-09T12:35:59.733925",
     "status": "completed"
    },
    "tags": []
   },
   "source": [
    "# ****Step 9****\n",
    "Submission"
   ]
  },
  {
   "cell_type": "code",
   "execution_count": 63,
   "id": "bcb5f65d",
   "metadata": {
    "execution": {
     "iopub.execute_input": "2023-12-09T12:35:59.816393Z",
     "iopub.status.busy": "2023-12-09T12:35:59.815723Z",
     "iopub.status.idle": "2023-12-09T12:35:59.979339Z",
     "shell.execute_reply": "2023-12-09T12:35:59.977709Z"
    },
    "papermill": {
     "duration": 0.194408,
     "end_time": "2023-12-09T12:35:59.982122",
     "exception": false,
     "start_time": "2023-12-09T12:35:59.787714",
     "status": "completed"
    },
    "tags": []
   },
   "outputs": [],
   "source": [
    "submission = pd.DataFrame(columns = [\"ID\",\"total_amount\"])\n",
    "submission[\"ID\"] = [i for i in range(1,len(y_pred)+1)]\n",
    "submission[\"total_amount\"] = y_pred\n",
    "submission.to_csv('submission.csv',index=False)"
   ]
  },
  {
   "cell_type": "markdown",
   "id": "29a08d2f",
   "metadata": {
    "papermill": {
     "duration": 0.02572,
     "end_time": "2023-12-09T12:36:00.034998",
     "exception": false,
     "start_time": "2023-12-09T12:36:00.009278",
     "status": "completed"
    },
    "tags": []
   },
   "source": [
    "# ****Brief Explanation of the methods used****"
   ]
  },
  {
   "cell_type": "code",
   "execution_count": 64,
   "id": "077bedc7",
   "metadata": {
    "execution": {
     "iopub.execute_input": "2023-12-09T12:36:00.089494Z",
     "iopub.status.busy": "2023-12-09T12:36:00.088859Z",
     "iopub.status.idle": "2023-12-09T12:36:00.093944Z",
     "shell.execute_reply": "2023-12-09T12:36:00.093181Z"
    },
    "papermill": {
     "duration": 0.035043,
     "end_time": "2023-12-09T12:36:00.095979",
     "exception": false,
     "start_time": "2023-12-09T12:36:00.060936",
     "status": "completed"
    },
    "tags": []
   },
   "outputs": [],
   "source": [
    "#1) The libraries needed are exported.\n",
    "#2) Then the data is loaded in respective variables. Exploratory Data Analysis is done to get information about the data.\n",
    "#3) Since the target variable is continuous, this is regression type of problem.\n",
    "#4) The distribution of total amount, two categorical columns and relation between total amount and trip distance is visualised.\n",
    "#5) Time difference is computed.\n",
    "#6) Payment_type is encoded using label encoder.\n",
    "#7) The null values in store_and_fwd are filled with the most frequent value and encoded using label encoder.\n",
    "#8) Correlation between the feature is analysed using correlation Matrix and heatmap\n",
    "#9) Unwanted columns and dropped\n",
    "#10) The data is split into features and labels.\n",
    "#11) Then the data is split into train data and validation data.\n",
    "#12) Simple Imputer is used to impute null values.\n",
    "#13) The same preprocessing is done for test data.\n",
    "#14) 9 models are used to compute the performance out of which 3 turned to be best.\n",
    "#15) Evaluation Metrics is obtained for every models.\n",
    "#16) Final Submission with two columns, ID and Total Amount and converting it to csv file.\n",
    "\n"
   ]
  },
  {
   "cell_type": "markdown",
   "id": "94bfd418",
   "metadata": {
    "papermill": {
     "duration": 0.025873,
     "end_time": "2023-12-09T12:36:00.147945",
     "exception": false,
     "start_time": "2023-12-09T12:36:00.122072",
     "status": "completed"
    },
    "tags": []
   },
   "source": [
    "# ****Conclusion****\n",
    "****The best scoring models obtained are Extra Trees Regressor, Random Forest Regressor and Gradient Boosting Regressor. They produce good results. But Extra Trees Regressor is faster and better than Random Forest Regressor.****"
   ]
  }
 ],
 "metadata": {
  "kaggle": {
   "accelerator": "none",
   "dataSources": [
    {
     "databundleVersionId": 6604167,
     "sourceId": 61246,
     "sourceType": "competition"
    }
   ],
   "dockerImageVersionId": 30558,
   "isGpuEnabled": false,
   "isInternetEnabled": true,
   "language": "python",
   "sourceType": "notebook"
  },
  "kernelspec": {
   "display_name": "Python 3",
   "language": "python",
   "name": "python3"
  },
  "language_info": {
   "codemirror_mode": {
    "name": "ipython",
    "version": 3
   },
   "file_extension": ".py",
   "mimetype": "text/x-python",
   "name": "python",
   "nbconvert_exporter": "python",
   "pygments_lexer": "ipython3",
   "version": "3.10.12"
  },
  "papermill": {
   "default_parameters": {},
   "duration": 447.992428,
   "end_time": "2023-12-09T12:36:01.399066",
   "environment_variables": {},
   "exception": null,
   "input_path": "__notebook__.ipynb",
   "output_path": "__notebook__.ipynb",
   "parameters": {},
   "start_time": "2023-12-09T12:28:33.406638",
   "version": "2.4.0"
  }
 },
 "nbformat": 4,
 "nbformat_minor": 5
}
